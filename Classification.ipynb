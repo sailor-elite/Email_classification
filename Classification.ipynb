{
 "cells": [
  {
   "cell_type": "markdown",
   "id": "3d425ebc-1b62-4a69-a5b7-6f1e1fc00b29",
   "metadata": {},
   "source": [
    "# Config\n"
   ]
  },
  {
   "cell_type": "code",
   "execution_count": 1,
   "id": "47f749b5-84ce-4955-9a4a-8d471bb44bec",
   "metadata": {},
   "outputs": [
    {
     "name": "stderr",
     "output_type": "stream",
     "text": [
      "/home/qq/my-jupyter-env/lib/python3.12/site-packages/tqdm/auto.py:21: TqdmWarning: IProgress not found. Please update jupyter and ipywidgets. See https://ipywidgets.readthedocs.io/en/stable/user_install.html\n",
      "  from .autonotebook import tqdm as notebook_tqdm\n"
     ]
    }
   ],
   "source": [
    "import base64, email, csv\n",
    "from googleapiclient.discovery import build\n",
    "from google_auth_oauthlib.flow import InstalledAppFlow\n",
    "from google.auth.transport.requests import Request\n",
    "import pickle, os\n",
    "import pandas as pd\n",
    "from bs4 import BeautifulSoup\n",
    "import re\n",
    "from IPython.display import clear_output\n",
    "from datasets import Dataset\n",
    "from transformers import GPT2ForSequenceClassification, GPT2LMHeadModel, GPT2Tokenizer\n",
    "from transformers import TrainingArguments, Trainer\n",
    "from transformers import AutoTokenizer, AutoModelForSequenceClassification, pipeline\n",
    "from sentence_transformers import SentenceTransformer, util\n",
    "import numpy as np\n",
    "import evaluate\n",
    "from tqdm import tqdm\n",
    "import torch\n",
    "import pandas as pd\n",
    "import matplotlib.pyplot as plt\n",
    "import seaborn as sns\n",
    "from sklearn.metrics import confusion_matrix\n"
   ]
  },
  {
   "cell_type": "code",
   "execution_count": 2,
   "id": "aa386f7e-3d74-4546-87fe-9e216e7da2fd",
   "metadata": {},
   "outputs": [],
   "source": [
    "pd.set_option('display.max_colwidth', 100)\n",
    "pd.set_option('display.max_rows', None)"
   ]
  },
  {
   "cell_type": "markdown",
   "id": "980ff4d3-fcdd-4c1f-94eb-3a7bcbf5aab2",
   "metadata": {},
   "source": [
    "## Google Scope"
   ]
  },
  {
   "cell_type": "code",
   "execution_count": 3,
   "id": "c0b2bd7a-fcd3-4124-ad7d-e36f751065d9",
   "metadata": {},
   "outputs": [],
   "source": [
    "SCOPES = ['https://www.googleapis.com/auth/gmail.readonly']"
   ]
  },
  {
   "cell_type": "markdown",
   "id": "33ff1607-6cfb-404a-832a-580b415d083f",
   "metadata": {},
   "source": [
    "## Helper functions"
   ]
  },
  {
   "cell_type": "code",
   "execution_count": 8,
   "id": "82f1282f-840a-4e51-8b95-18644091e2d5",
   "metadata": {},
   "outputs": [],
   "source": [
    "def gmail_service():\n",
    "\n",
    "    \"\"\"\n",
    "    Start gmail service, creating token.pickle file if needed\n",
    "    Arguments:\n",
    "    None\n",
    "    Return:\n",
    "    build('gmail', 'v1', credentials=creds) : Google credentials\n",
    "    \"\"\"\n",
    "    creds = None\n",
    "    if os.path.exists('token.pickle'):\n",
    "        with open('token.pickle', 'rb') as f:\n",
    "            creds = pickle.load(f)\n",
    "    if not creds or not creds.valid:\n",
    "        if creds and creds.expired and creds.refresh_token:\n",
    "            creds.refresh(Request())\n",
    "        else:\n",
    "            flow = InstalledAppFlow.from_client_secrets_file('credentials.json', SCOPES)\n",
    "            creds = flow.run_local_server(port=0)\n",
    "        with open('token.pickle', 'wb') as f:\n",
    "            pickle.dump(creds, f)\n",
    "    return build('gmail', 'v1', credentials=creds)\n",
    "\n",
    "\n",
    "\n",
    "def get_message_text(msg):\n",
    "    \"\"\"\n",
    "    Gets text from message/mails\n",
    "    Arguments:\n",
    "    msg : message from fetching da\n",
    "    Return:\n",
    "    bbase64.urlsafe_b64decode(body.encode('ASCII')).decode('utf-8', errors='ignore') : decoded payload\n",
    "    \"\"\"\n",
    "    if msg.get('payload') is None:\n",
    "        return ''\n",
    "    parts = msg['payload'].get('parts')\n",
    "    if parts:\n",
    "        for p in parts:\n",
    "            if p.get('mimeType') == 'text/plain' and p.get('body', {}).get('data'):\n",
    "                data = p['body']['data']\n",
    "                return base64.urlsafe_b64decode(data.encode('ASCII')).decode('utf-8', errors='ignore')\n",
    "    body = msg['payload'].get('body', {}).get('data')\n",
    "    if body:\n",
    "        return base64.urlsafe_b64decode(body.encode('ASCII')).decode('utf-8', errors='ignore')\n",
    "    return ''\n",
    "\n",
    "\n",
    "def fetch_and_save(max_messages=500, out_csv='gmail_emails.csv'):\n",
    "    \"\"\"\n",
    "    fetch and save messages from Google API. Default max_messages is 500.\n",
    "    Arguments:\n",
    "    max_messages : number of maximum messages to fetch from Google API\n",
    "    out_csv : name of the output file\n",
    "    Return:\n",
    "    csv file\n",
    "    \"\"\"\n",
    "    service = gmail_service()\n",
    "    results = service.users().messages().list(userId='me', maxResults=max_messages).execute()\n",
    "    messages = results.get('messages', [])\n",
    "    rows = []\n",
    "    for m in messages:\n",
    "        res = service.users().messages().get(userId='me', id=m['id'], format='full').execute()\n",
    "        headers = {h['name']: h['value'] for h in res['payload'].get('headers', [])}\n",
    "        subject = headers.get('Subject', '')\n",
    "        sender = headers.get('From', '')\n",
    "        date = headers.get('Date', '')\n",
    "        labels = res.get('labelIds', [])\n",
    "        text = get_message_text(res)\n",
    "        rows.append({'id': m['id'], 'subject': subject, 'from': sender, 'date': date, 'labels': '|'.join(labels), 'text': text})\n",
    "    df = pd.DataFrame(rows)\n",
    "    df.to_csv(out_csv, index=False)\n",
    "    print(f\"Saved {len(df)} messages to {out_csv}\")"
   ]
  },
  {
   "cell_type": "code",
   "execution_count": 9,
   "id": "e83b552b-08a8-4ea6-b310-1438256d7611",
   "metadata": {},
   "outputs": [],
   "source": [
    "def clean_html(text):\n",
    "    \"\"\"\n",
    "    Cleans HTML tags from text\n",
    "    Arguments:\n",
    "    text : input text to clean tags from\n",
    "    Return:\n",
    "    clean_text : cleaned text\n",
    "    \"\"\"\n",
    "    if not isinstance(text, str):\n",
    "        return text\n",
    "    soup = BeautifulSoup(text, 'html.parser')\n",
    "    clean_text = soup.get_text(separator=' ', strip=True)\n",
    "    clean_text = re.sub(r'(\\\\r\\\\n|\\\\r|\\\\n|\\r|\\n)', ' ', clean_text)\n",
    "    invisible_chars = [\n",
    "        '\\u200B',\n",
    "        '\\u200C', \n",
    "        '\\u200D',  \n",
    "        '\\uFEFF',  \n",
    "        '\\u034F',  \n",
    "        '\\u2060',  \n",
    "        '\\u180E',  \n",
    "        '\\u3164',  \n",
    "        '\\u2800',  \n",
    "        '\\u2028',  \n",
    "        '\\u2029',  \n",
    "    ]\n",
    "    for ch in invisible_chars:\n",
    "        clean_text = clean_text.replace(ch, '')\n",
    "    clean_text = re.sub(r'\\s+', ' ', clean_text).strip()\n",
    "    return clean_text"
   ]
  },
  {
   "cell_type": "markdown",
   "id": "59a4a5a0-9ddb-43af-9988-ebe871bd327e",
   "metadata": {},
   "source": [
    "# Getting mails from Gmail"
   ]
  },
  {
   "cell_type": "code",
   "execution_count": 6,
   "id": "bc2dafc6-c10f-499a-a9a9-347200d27c06",
   "metadata": {},
   "outputs": [
    {
     "name": "stdout",
     "output_type": "stream",
     "text": [
      "Saved 500 messages to 100_mails.csv\n"
     ]
    }
   ],
   "source": [
    "fetch_and_save(out_csv = \"100_mails.csv\")"
   ]
  },
  {
   "cell_type": "markdown",
   "id": "ebd5e8e7-f7b6-4fd6-a108-6cb3736fadc0",
   "metadata": {},
   "source": [
    "## Mails preprocessing"
   ]
  },
  {
   "cell_type": "code",
   "execution_count": 4,
   "id": "60fe3ca8-503a-4724-999a-391582489eea",
   "metadata": {},
   "outputs": [],
   "source": [
    "data = {\n",
    "    \n",
    "}"
   ]
  },
  {
   "cell_type": "code",
   "execution_count": 7,
   "id": "6afb530f-2937-43f4-899f-cd30603eda72",
   "metadata": {},
   "outputs": [],
   "source": [
    "data[\"mails\"] = pd.read_csv(\"gmail_emails.csv\")"
   ]
  },
  {
   "cell_type": "code",
   "execution_count": 8,
   "id": "99d11a3b-6494-4a92-a8c0-f812b6bdc14f",
   "metadata": {},
   "outputs": [
    {
     "name": "stdout",
     "output_type": "stream",
     "text": [
      "<class 'pandas.core.frame.DataFrame'>\n",
      "RangeIndex: 500 entries, 0 to 499\n",
      "Data columns (total 6 columns):\n",
      " #   Column   Non-Null Count  Dtype \n",
      "---  ------   --------------  ----- \n",
      " 0   id       500 non-null    object\n",
      " 1   subject  498 non-null    object\n",
      " 2   from     500 non-null    object\n",
      " 3   date     500 non-null    object\n",
      " 4   labels   500 non-null    object\n",
      " 5   text     447 non-null    object\n",
      "dtypes: object(6)\n",
      "memory usage: 23.6+ KB\n"
     ]
    }
   ],
   "source": [
    "data[\"mails\"].info()"
   ]
  },
  {
   "cell_type": "code",
   "execution_count": 9,
   "id": "a518f7e6-5433-49a3-ab0d-a10c4489362b",
   "metadata": {},
   "outputs": [],
   "source": [
    "data[\"mails\"][\"text\"] = data[\"mails\"][\"text\"].apply(clean_html)\n"
   ]
  },
  {
   "cell_type": "code",
   "execution_count": 10,
   "id": "8bc01c70-9758-4229-bc32-f0a4a008e128",
   "metadata": {},
   "outputs": [],
   "source": [
    "#data[\"mails\"][\"text\"].head(10)"
   ]
  },
  {
   "cell_type": "code",
   "execution_count": 11,
   "id": "ec855566-76f4-4e1a-83cb-b7bd4cf37f86",
   "metadata": {},
   "outputs": [
    {
     "name": "stdout",
     "output_type": "stream",
     "text": [
      "<class 'pandas.core.frame.DataFrame'>\n",
      "RangeIndex: 500 entries, 0 to 499\n",
      "Data columns (total 6 columns):\n",
      " #   Column   Non-Null Count  Dtype \n",
      "---  ------   --------------  ----- \n",
      " 0   id       500 non-null    object\n",
      " 1   subject  498 non-null    object\n",
      " 2   from     500 non-null    object\n",
      " 3   date     500 non-null    object\n",
      " 4   labels   500 non-null    object\n",
      " 5   text     447 non-null    object\n",
      "dtypes: object(6)\n",
      "memory usage: 23.6+ KB\n"
     ]
    }
   ],
   "source": [
    "data[\"mails\"].info()"
   ]
  },
  {
   "cell_type": "markdown",
   "id": "e8ab07de-c234-4890-add4-50c20767012a",
   "metadata": {},
   "source": [
    "### Manual labelling"
   ]
  },
  {
   "cell_type": "code",
   "execution_count": 46,
   "id": "58b7897e-22af-4c65-b767-5395f47d97fa",
   "metadata": {},
   "outputs": [],
   "source": [
    "labels = [\"Product Alerts / Price Deals\", \"Spam / Hazardous\", \"Shipping / Order Updates\", \"News / Informational Content\", \"Personal / Account Related\", \"Other\"]\n",
    "output_csv = \"labeled_emails.csv\""
   ]
  },
  {
   "cell_type": "code",
   "execution_count": 47,
   "id": "f1fe2067-3954-4050-ada3-62ddb7c7e9f2",
   "metadata": {},
   "outputs": [],
   "source": [
    "# data[\"labeled\"] = data[\"mails\"]\n",
    "# if \"labels\" not in data[\"labeled\"].columns:\n",
    "#     data[\"labeled\"][\"labels\"] = None"
   ]
  },
  {
   "cell_type": "code",
   "execution_count": 48,
   "id": "b0446bd5-2607-447a-ad8a-943794b143f3",
   "metadata": {},
   "outputs": [],
   "source": [
    "# Doesn't work good in web browser\n",
    "\n",
    "# for idx, row in data[\"labeled\"].iterrows():\n",
    "#     clear_output(wait=True) \n",
    "#     email_text = row[\"text\"]\n",
    "\n",
    "#     print(\"\\n\" + \"=\"*50)\n",
    "#     print(f\"Email {idx+1}/{len(data['labeled'])}:\")\n",
    "#     print(email_text)\n",
    "#     print(\"\\nPossible labels:\")\n",
    "#     for i, label in enumerate(labels, 1):\n",
    "#         print(f\"{i}: {label}\")\n",
    "\n",
    "#     while True:\n",
    "#         label_num = input(\"Enter label number: \").strip()\n",
    "#         if label_num.isdigit() and 1 <= int(label_num) <= len(labels):\n",
    "#             label = labels[int(label_num) - 1]\n",
    "#             break\n",
    "#         print(f\"Invalid input! Please enter a number between 1 and {len(labels)}.\")\n",
    "\n",
    "#     data[\"labeled\"].loc[idx, \"labels\"] = label\n",
    "#     data[\"labeled\"].to_csv(output_csv, index=False)"
   ]
  },
  {
   "cell_type": "code",
   "execution_count": 49,
   "id": "8fff7839-a611-446d-8e45-6640382118af",
   "metadata": {},
   "outputs": [
    {
     "data": {
      "text/plain": [
       "'\\nlabelled using external tools\\n'"
      ]
     },
     "execution_count": 49,
     "metadata": {},
     "output_type": "execute_result"
    }
   ],
   "source": [
    "\"\"\"\n",
    "labelled using external tools\n",
    "\"\"\""
   ]
  },
  {
   "cell_type": "code",
   "execution_count": 50,
   "id": "c7c66011-1094-40f5-a998-c71143a65251",
   "metadata": {},
   "outputs": [],
   "source": [
    "data[\"mails\"].to_csv(\"100-mails.csv\")"
   ]
  },
  {
   "cell_type": "markdown",
   "id": "e3d7ceb6-920a-4128-bc4a-94ba36f04c69",
   "metadata": {},
   "source": [
    "# GPT - 2 based categorization"
   ]
  },
  {
   "cell_type": "markdown",
   "id": "60a6ad7d-8457-49d0-b88d-afe33408f676",
   "metadata": {},
   "source": [
    "## Fine-tuning"
   ]
  },
  {
   "cell_type": "code",
   "execution_count": 17,
   "id": "28a250b4-cecb-43b7-bb7f-104c630adb7b",
   "metadata": {},
   "outputs": [],
   "source": [
    "data[\"labeled\"] = pd.read_csv(\"labeled_dataset.csv\")  # Must have 'text' and 'label' columns\n",
    "data[\"labeled\"] = data[\"labeled\"][data[\"labeled\"][\"text\"].notna()]\n",
    "data[\"labeled\"] = data[\"labeled\"][[\"text\",\"label\"]]\n",
    "data[\"dataset_labeled\"] = Dataset.from_pandas(data[\"labeled\"])"
   ]
  },
  {
   "cell_type": "code",
   "execution_count": 18,
   "id": "140587c8-6bc7-4b41-98f1-715eda62b7de",
   "metadata": {},
   "outputs": [
    {
     "data": {
      "text/plain": [
       "label\n",
       "Spam/Hazardous                  191\n",
       "Product Alerts / Price Deals    187\n",
       "News / Informational Content     32\n",
       "Other                            16\n",
       "Personal / Account Related       14\n",
       "Name: count, dtype: int64"
      ]
     },
     "execution_count": 18,
     "metadata": {},
     "output_type": "execute_result"
    }
   ],
   "source": [
    "data[\"labeled\"].label.value_counts()"
   ]
  },
  {
   "cell_type": "code",
   "execution_count": 19,
   "id": "1d08bbcf-3b33-4d04-a246-ffe3687b7658",
   "metadata": {},
   "outputs": [
    {
     "data": {
      "text/html": [
       "<div>\n",
       "<style scoped>\n",
       "    .dataframe tbody tr th:only-of-type {\n",
       "        vertical-align: middle;\n",
       "    }\n",
       "\n",
       "    .dataframe tbody tr th {\n",
       "        vertical-align: top;\n",
       "    }\n",
       "\n",
       "    .dataframe thead th {\n",
       "        text-align: right;\n",
       "    }\n",
       "</style>\n",
       "<table border=\"1\" class=\"dataframe\">\n",
       "  <thead>\n",
       "    <tr style=\"text-align: right;\">\n",
       "      <th></th>\n",
       "      <th>text</th>\n",
       "      <th>label</th>\n",
       "    </tr>\n",
       "  </thead>\n",
       "  <tbody>\n",
       "    <tr>\n",
       "      <th>14</th>\n",
       "      <td>&lt;!DOCTYPE html PUBLIC \"-//W3C//DTD XHTML 1.0 Transitional//EN\"\\r\\n        \"http://www.w3.org/TR/...</td>\n",
       "      <td>Personal / Account Related</td>\n",
       "    </tr>\n",
       "    <tr>\n",
       "      <th>17</th>\n",
       "      <td>\\n\\n Mubi.pl \\n\\n                                        Najtańsze ubezpieczenie dla RENAULT Kol...</td>\n",
       "      <td>Personal / Account Related</td>\n",
       "    </tr>\n",
       "    <tr>\n",
       "      <th>91</th>\n",
       "      <td>========================================\\r\\nZobacz powiadomienia.\\r\\nhttps://www.facebook.com/nd...</td>\n",
       "      <td>Personal / Account Related</td>\n",
       "    </tr>\n",
       "    <tr>\n",
       "      <th>145</th>\n",
       "      <td>sie\\r\\n\\r\\n15\\r\\n\\r\\nPoinformuj klientów o godzinach otwarcia Twojej firmy w święta w sierpnia\\r...</td>\n",
       "      <td>Personal / Account Related</td>\n",
       "    </tr>\n",
       "    <tr>\n",
       "      <th>166</th>\n",
       "      <td>\\r\\n \\r\\n \\r\\n\\r\\n  This year’s in-demand computer science skills\\r\\n&amp;zwnj; &amp;zwnj; &amp;zwnj; &amp;zwnj;...</td>\n",
       "      <td>Personal / Account Related</td>\n",
       "    </tr>\n",
       "    <tr>\n",
       "      <th>222</th>\n",
       "      <td>\\r\\n\\r\\n\\r\\n\\r\\n\\r\\n\\r\\n\\r\\n\\r\\n\\r\\n\\r\\n\\r\\n\\r\\n\\r\\nTwój raport dotyczący profilu firmy: 166 int...</td>\n",
       "      <td>Personal / Account Related</td>\n",
       "    </tr>\n",
       "    <tr>\n",
       "      <th>252</th>\n",
       "      <td>Opanuj analizę danych i zostań juniorem ͏  ͏  ͏  ͏  ͏  ͏  ͏  ͏  ͏  ͏  ͏  ͏  ͏  ͏  ͏  ͏  ͏  ͏  ͏ ...</td>\n",
       "      <td>Personal / Account Related</td>\n",
       "    </tr>\n",
       "    <tr>\n",
       "      <th>266</th>\n",
       "      <td>Wyliczenie składki dla Twojego samochodu:\\r\\nRENAULT Koleos z 2012 roku.\\r\\n\\r\\nDziękujemy za po...</td>\n",
       "      <td>Personal / Account Related</td>\n",
       "    </tr>\n",
       "    <tr>\n",
       "      <th>275</th>\n",
       "      <td>We'll downgrade you to our free plan today\\r\\n͏   ­͏   ­͏   ­͏   ­͏   ­͏   ­͏   ­͏   ­͏   ­͏   ­...</td>\n",
       "      <td>Personal / Account Related</td>\n",
       "    </tr>\n",
       "    <tr>\n",
       "      <th>306</th>\n",
       "      <td>========================================\\r\\nZobacz powiadomienia.\\r\\nhttps://www.facebook.com/nd...</td>\n",
       "      <td>Personal / Account Related</td>\n",
       "    </tr>\n",
       "    <tr>\n",
       "      <th>334</th>\n",
       "      <td>Cześć\\r\\n\\r\\n​\\r\\nMasz w firmie budżet szkoleniowy?\\r\\nŚwietnie – możesz sfinansować udział w ku...</td>\n",
       "      <td>Personal / Account Related</td>\n",
       "    </tr>\n",
       "    <tr>\n",
       "      <th>349</th>\n",
       "      <td>Dzień dobry!\\r\\n\\r\\nMiło nam poinformować, że otrzymaliśmy Twoją wpłatę i zabieramy się do reali...</td>\n",
       "      <td>Personal / Account Related</td>\n",
       "    </tr>\n",
       "    <tr>\n",
       "      <th>412</th>\n",
       "      <td>Dzień dobry  Beata Bednarczyk,\\r\\n\\r\\nPaństwa zamówienie nr 19384  zostało przygotowane do wysył...</td>\n",
       "      <td>Personal / Account Related</td>\n",
       "    </tr>\n",
       "    <tr>\n",
       "      <th>451</th>\n",
       "      <td>Limited time! Get expanded features in Gemini when you enroll in\\na Google Certificate.      bod...</td>\n",
       "      <td>Personal / Account Related</td>\n",
       "    </tr>\n",
       "  </tbody>\n",
       "</table>\n",
       "</div>"
      ],
      "text/plain": [
       "                                                                                                    text  \\\n",
       "14   <!DOCTYPE html PUBLIC \"-//W3C//DTD XHTML 1.0 Transitional//EN\"\\r\\n        \"http://www.w3.org/TR/...   \n",
       "17   \\n\\n Mubi.pl \\n\\n                                        Najtańsze ubezpieczenie dla RENAULT Kol...   \n",
       "91   ========================================\\r\\nZobacz powiadomienia.\\r\\nhttps://www.facebook.com/nd...   \n",
       "145  sie\\r\\n\\r\\n15\\r\\n\\r\\nPoinformuj klientów o godzinach otwarcia Twojej firmy w święta w sierpnia\\r...   \n",
       "166  \\r\\n \\r\\n \\r\\n\\r\\n  This year’s in-demand computer science skills\\r\\n&zwnj; &zwnj; &zwnj; &zwnj;...   \n",
       "222  \\r\\n\\r\\n\\r\\n\\r\\n\\r\\n\\r\\n\\r\\n\\r\\n\\r\\n\\r\\n\\r\\n\\r\\n\\r\\nTwój raport dotyczący profilu firmy: 166 int...   \n",
       "252  Opanuj analizę danych i zostań juniorem ͏  ͏  ͏  ͏  ͏  ͏  ͏  ͏  ͏  ͏  ͏  ͏  ͏  ͏  ͏  ͏  ͏  ͏  ͏ ...   \n",
       "266  Wyliczenie składki dla Twojego samochodu:\\r\\nRENAULT Koleos z 2012 roku.\\r\\n\\r\\nDziękujemy za po...   \n",
       "275  We'll downgrade you to our free plan today\\r\\n͏   ­͏   ­͏   ­͏   ­͏   ­͏   ­͏   ­͏   ­͏   ­͏   ­...   \n",
       "306  ========================================\\r\\nZobacz powiadomienia.\\r\\nhttps://www.facebook.com/nd...   \n",
       "334  Cześć\\r\\n\\r\\n​\\r\\nMasz w firmie budżet szkoleniowy?\\r\\nŚwietnie – możesz sfinansować udział w ku...   \n",
       "349  Dzień dobry!\\r\\n\\r\\nMiło nam poinformować, że otrzymaliśmy Twoją wpłatę i zabieramy się do reali...   \n",
       "412  Dzień dobry  Beata Bednarczyk,\\r\\n\\r\\nPaństwa zamówienie nr 19384  zostało przygotowane do wysył...   \n",
       "451  Limited time! Get expanded features in Gemini when you enroll in\\na Google Certificate.      bod...   \n",
       "\n",
       "                          label  \n",
       "14   Personal / Account Related  \n",
       "17   Personal / Account Related  \n",
       "91   Personal / Account Related  \n",
       "145  Personal / Account Related  \n",
       "166  Personal / Account Related  \n",
       "222  Personal / Account Related  \n",
       "252  Personal / Account Related  \n",
       "266  Personal / Account Related  \n",
       "275  Personal / Account Related  \n",
       "306  Personal / Account Related  \n",
       "334  Personal / Account Related  \n",
       "349  Personal / Account Related  \n",
       "412  Personal / Account Related  \n",
       "451  Personal / Account Related  "
      ]
     },
     "execution_count": 19,
     "metadata": {},
     "output_type": "execute_result"
    }
   ],
   "source": [
    "data[\"labeled\"][data[\"labeled\"]['label'] == \"Personal / Account Related\"]"
   ]
  },
  {
   "cell_type": "code",
   "execution_count": 20,
   "id": "def8066c-d237-4630-8eed-285ad809f4e8",
   "metadata": {},
   "outputs": [
    {
     "name": "stdout",
     "output_type": "stream",
     "text": [
      "<class 'pandas.core.frame.DataFrame'>\n",
      "Index: 440 entries, 0 to 499\n",
      "Data columns (total 2 columns):\n",
      " #   Column  Non-Null Count  Dtype \n",
      "---  ------  --------------  ----- \n",
      " 0   text    440 non-null    object\n",
      " 1   label   440 non-null    object\n",
      "dtypes: object(2)\n",
      "memory usage: 10.3+ KB\n"
     ]
    }
   ],
   "source": [
    "data[\"labeled\"].info()"
   ]
  },
  {
   "cell_type": "code",
   "execution_count": 21,
   "id": "0f875d43-42c7-483b-9218-a75a5e40f6ca",
   "metadata": {},
   "outputs": [
    {
     "name": "stderr",
     "output_type": "stream",
     "text": [
      "Casting to class labels: 100%|██████| 440/440 [00:00<00:00, 37052.16 examples/s]\n"
     ]
    }
   ],
   "source": [
    "data[\"dataset_labeled\"] = data[\"dataset_labeled\"].class_encode_column(\"label\")\n",
    "\n",
    "data[\"dataset_labeled\"]  = data[\"dataset_labeled\"].train_test_split(test_size=0.2)"
   ]
  },
  {
   "cell_type": "code",
   "execution_count": 22,
   "id": "cf6d638c-4d27-4839-80f6-31c585b20ed3",
   "metadata": {},
   "outputs": [
    {
     "name": "stderr",
     "output_type": "stream",
     "text": [
      "Map: 100%|█████████████████████████████| 352/352 [00:05<00:00, 68.18 examples/s]\n",
      "Map: 100%|███████████████████████████████| 88/88 [00:01<00:00, 85.19 examples/s]\n"
     ]
    }
   ],
   "source": [
    "tokenizer = GPT2Tokenizer.from_pretrained(\"gpt2\")\n",
    "tokenizer.pad_token = tokenizer.eos_token\n",
    "\n",
    "def tokenize(batch):\n",
    "    return tokenizer(batch[\"text\"], padding=\"max_length\", truncation=True, max_length=128)\n",
    "\n",
    "tokenized_dataset = data[\"dataset_labeled\"].map(tokenize, batched=True)"
   ]
  },
  {
   "cell_type": "code",
   "execution_count": 23,
   "id": "912aa656-ec74-4b4f-910a-ddd12f356049",
   "metadata": {},
   "outputs": [
    {
     "name": "stderr",
     "output_type": "stream",
     "text": [
      "Some weights of GPT2ForSequenceClassification were not initialized from the model checkpoint at gpt2 and are newly initialized: ['score.weight']\n",
      "You should probably TRAIN this model on a down-stream task to be able to use it for predictions and inference.\n"
     ]
    }
   ],
   "source": [
    "num_labels = len(tokenized_dataset[\"train\"].features[\"label\"].names)\n",
    "\n",
    "model = GPT2ForSequenceClassification.from_pretrained(\n",
    "    \"gpt2\", \n",
    "    num_labels=num_labels\n",
    ")\n",
    "\n",
    "model.config.pad_token_id = model.config.eos_token_id"
   ]
  },
  {
   "cell_type": "code",
   "execution_count": 24,
   "id": "35a0c0c2-7111-45c8-b41b-4f7ff156e2ab",
   "metadata": {},
   "outputs": [
    {
     "name": "stderr",
     "output_type": "stream",
     "text": [
      "/tmp/ipykernel_6047/2022548250.py:19: FutureWarning: `tokenizer` is deprecated and will be removed in version 5.0.0 for `Trainer.__init__`. Use `processing_class` instead.\n",
      "  trainer = Trainer(\n"
     ]
    },
    {
     "data": {
      "text/html": [
       "\n",
       "    <div>\n",
       "      \n",
       "      <progress value='264' max='264' style='width:300px; height:20px; vertical-align: middle;'></progress>\n",
       "      [264/264 01:09, Epoch 3/3]\n",
       "    </div>\n",
       "    <table border=\"1\" class=\"dataframe\">\n",
       "  <thead>\n",
       " <tr style=\"text-align: left;\">\n",
       "      <th>Step</th>\n",
       "      <th>Training Loss</th>\n",
       "    </tr>\n",
       "  </thead>\n",
       "  <tbody>\n",
       "    <tr>\n",
       "      <td>50</td>\n",
       "      <td>1.690100</td>\n",
       "    </tr>\n",
       "    <tr>\n",
       "      <td>100</td>\n",
       "      <td>0.760100</td>\n",
       "    </tr>\n",
       "    <tr>\n",
       "      <td>150</td>\n",
       "      <td>0.651400</td>\n",
       "    </tr>\n",
       "    <tr>\n",
       "      <td>200</td>\n",
       "      <td>0.438100</td>\n",
       "    </tr>\n",
       "    <tr>\n",
       "      <td>250</td>\n",
       "      <td>0.313500</td>\n",
       "    </tr>\n",
       "  </tbody>\n",
       "</table><p>"
      ],
      "text/plain": [
       "<IPython.core.display.HTML object>"
      ]
     },
     "metadata": {},
     "output_type": "display_data"
    },
    {
     "data": {
      "text/plain": [
       "TrainOutput(global_step=264, training_loss=0.7475891221653331, metrics={'train_runtime': 70.7721, 'train_samples_per_second': 14.921, 'train_steps_per_second': 3.73, 'total_flos': 68984210718720.0, 'train_loss': 0.7475891221653331, 'epoch': 3.0})"
      ]
     },
     "execution_count": 24,
     "metadata": {},
     "output_type": "execute_result"
    }
   ],
   "source": [
    "accuracy = evaluate.load(\"accuracy\")\n",
    "\n",
    "def compute_metrics(eval_pred):\n",
    "    logits, labels = eval_pred\n",
    "    preds = np.argmax(logits, axis=-1)\n",
    "    return accuracy.compute(predictions=preds, references=labels)\n",
    "\n",
    "training_args = TrainingArguments(\n",
    "    output_dir=\"./gpt2-email-classifier\",\n",
    "    learning_rate=5e-5,\n",
    "    per_device_train_batch_size=4,\n",
    "    per_device_eval_batch_size=4,\n",
    "    num_train_epochs=3,\n",
    "    weight_decay=0.01,\n",
    "    logging_dir=\"./logs\",\n",
    "    logging_steps=50\n",
    ")\n",
    "\n",
    "trainer = Trainer(\n",
    "    model=model,\n",
    "    args=training_args,\n",
    "    train_dataset=tokenized_dataset[\"train\"],\n",
    "    eval_dataset=tokenized_dataset[\"test\"],\n",
    "    tokenizer=tokenizer,\n",
    "    compute_metrics=compute_metrics\n",
    ")\n",
    "\n",
    "trainer.train()"
   ]
  },
  {
   "cell_type": "code",
   "execution_count": 25,
   "id": "fe31679e-c455-468b-b8aa-0590f49dc91f",
   "metadata": {},
   "outputs": [
    {
     "data": {
      "text/html": [
       "<div>\n",
       "<style scoped>\n",
       "    .dataframe tbody tr th:only-of-type {\n",
       "        vertical-align: middle;\n",
       "    }\n",
       "\n",
       "    .dataframe tbody tr th {\n",
       "        vertical-align: top;\n",
       "    }\n",
       "\n",
       "    .dataframe thead th {\n",
       "        text-align: right;\n",
       "    }\n",
       "</style>\n",
       "<table border=\"1\" class=\"dataframe\">\n",
       "  <thead>\n",
       "    <tr style=\"text-align: right;\">\n",
       "      <th></th>\n",
       "      <th>text</th>\n",
       "      <th>label</th>\n",
       "    </tr>\n",
       "  </thead>\n",
       "  <tbody>\n",
       "    <tr>\n",
       "      <th>0</th>\n",
       "      <td>Znaleźliśmy okazję pasującą do Twojego alertu 'komputery i tablety'!\\r\\n\\r\\neSUN PLA Filamet do ...</td>\n",
       "      <td>Product Alerts / Price Deals</td>\n",
       "    </tr>\n",
       "  </tbody>\n",
       "</table>\n",
       "</div>"
      ],
      "text/plain": [
       "                                                                                                  text  \\\n",
       "0  Znaleźliśmy okazję pasującą do Twojego alertu 'komputery i tablety'!\\r\\n\\r\\neSUN PLA Filamet do ...   \n",
       "\n",
       "                          label  \n",
       "0  Product Alerts / Price Deals  "
      ]
     },
     "execution_count": 25,
     "metadata": {},
     "output_type": "execute_result"
    }
   ],
   "source": [
    "data[\"labeled\"].head(1)"
   ]
  },
  {
   "cell_type": "markdown",
   "id": "77712d8e-b0f7-48fa-be58-190a2c9c1a02",
   "metadata": {},
   "source": [
    "### Model manual test"
   ]
  },
  {
   "cell_type": "code",
   "execution_count": 86,
   "id": "a77c4d0a-b4c2-498e-9c2e-702074c2cad5",
   "metadata": {},
   "outputs": [
    {
     "ename": "Exception",
     "evalue": "Break.",
     "output_type": "error",
     "traceback": [
      "\u001b[31m---------------------------------------------------------------------------\u001b[39m",
      "\u001b[31mException\u001b[39m                                 Traceback (most recent call last)",
      "\u001b[36mCell\u001b[39m\u001b[36m \u001b[39m\u001b[32mIn[86]\u001b[39m\u001b[32m, line 1\u001b[39m\n\u001b[32m----> \u001b[39m\u001b[32m1\u001b[39m \u001b[38;5;28;01mraise\u001b[39;00m \u001b[38;5;167;01mException\u001b[39;00m (\u001b[33m\"\u001b[39m\u001b[33mBreak.\u001b[39m\u001b[33m\"\u001b[39m)\n",
      "\u001b[31mException\u001b[39m: Break."
     ]
    }
   ],
   "source": [
    "raise Exception (\"Break.\")"
   ]
  },
  {
   "cell_type": "code",
   "execution_count": null,
   "id": "1abc73ad-8b8b-4f84-aaa1-199c0deceb60",
   "metadata": {},
   "outputs": [],
   "source": [
    "device = next(model.parameters()).device  # get model device (cpu or cuda)\n",
    "test_email = \"Znaleźliśmy okazję pasującą do Twojego alertu 'komputery i tablety'!\"\n",
    "inputs = tokenizer(test_email, return_tensors=\"pt\", padding=True, truncation=True)\n",
    "inputs = {k: v.to(device) for k, v in inputs.items()}  # move inputs to model device\n",
    "\n",
    "outputs = model(**inputs)\n",
    "predicted_label = outputs.logits.argmax(dim=-1).item()\n",
    "\n",
    "label_names = tokenized_dataset[\"train\"].features[\"label\"].names\n",
    "print(\"Predicted category:\", label_names[predicted_label])"
   ]
  },
  {
   "cell_type": "code",
   "execution_count": 61,
   "id": "98eb7a9f-0dbd-45ad-b0cd-1474d1c55f4f",
   "metadata": {},
   "outputs": [
    {
     "data": {
      "text/plain": [
       "['News / Informational Content',\n",
       " 'Other',\n",
       " 'Personal / Account Related',\n",
       " 'Product Alerts / Price Deals',\n",
       " 'Spam/Hazardous']"
      ]
     },
     "execution_count": 61,
     "metadata": {},
     "output_type": "execute_result"
    }
   ],
   "source": [
    "tokenized_dataset[\"train\"].features[\"label\"].names"
   ]
  },
  {
   "cell_type": "markdown",
   "id": "4e7e8b9d-f1ed-47de-bbc3-8f53cc9c94ef",
   "metadata": {},
   "source": [
    "## Importing validation dataset "
   ]
  },
  {
   "cell_type": "code",
   "execution_count": 5,
   "id": "4897d848-1aa7-456f-9331-81e011ae3cd2",
   "metadata": {},
   "outputs": [],
   "source": [
    "data[\"validating\"] = pd.read_csv(\"validation_dataset.csv\")"
   ]
  },
  {
   "cell_type": "code",
   "execution_count": 6,
   "id": "9d3f3631-e51d-4b05-89c3-95d8ac111191",
   "metadata": {},
   "outputs": [
    {
     "name": "stdout",
     "output_type": "stream",
     "text": [
      "<class 'pandas.core.frame.DataFrame'>\n",
      "RangeIndex: 447 entries, 0 to 446\n",
      "Data columns (total 8 columns):\n",
      " #   Column      Non-Null Count  Dtype \n",
      "---  ------      --------------  ----- \n",
      " 0   Unnamed: 0  447 non-null    int64 \n",
      " 1   id          447 non-null    object\n",
      " 2   subject     447 non-null    object\n",
      " 3   from        447 non-null    object\n",
      " 4   date        447 non-null    object\n",
      " 5   labels      447 non-null    object\n",
      " 6   text        447 non-null    object\n",
      " 7   label       447 non-null    object\n",
      "dtypes: int64(1), object(7)\n",
      "memory usage: 28.1+ KB\n"
     ]
    }
   ],
   "source": [
    "data[\"validating\"].info()"
   ]
  },
  {
   "cell_type": "code",
   "execution_count": 7,
   "id": "13595f73-1c6a-4936-8d78-3c209cdef3a4",
   "metadata": {},
   "outputs": [],
   "source": [
    "data[\"validating\"] = data[\"validating\"].drop(columns=[\"Unnamed: 0\"])"
   ]
  },
  {
   "cell_type": "code",
   "execution_count": 8,
   "id": "595408c0-c953-4d72-a0bc-50e5294d5a45",
   "metadata": {},
   "outputs": [
    {
     "data": {
      "text/plain": [
       "label\n",
       "Product Alerts / Price Deals    197\n",
       "Spam/Hazardous                  192\n",
       "News / Informational Content     32\n",
       "Personal / Account Related       14\n",
       "Other                            12\n",
       "Name: count, dtype: int64"
      ]
     },
     "execution_count": 8,
     "metadata": {},
     "output_type": "execute_result"
    }
   ],
   "source": [
    "data[\"validating\"][\"label\"].value_counts()"
   ]
  },
  {
   "cell_type": "markdown",
   "id": "33ed47e9-a0d3-4f87-b6ba-c311fcf7e215",
   "metadata": {},
   "source": [
    "### 100 mails dataset"
   ]
  },
  {
   "cell_type": "code",
   "execution_count": 9,
   "id": "ca6b8fff-e961-4a22-808a-6aca4b0268d6",
   "metadata": {},
   "outputs": [],
   "source": [
    "desired = {\n",
    "    'Product Alerts / Price Deals': 27,\n",
    "    'Spam/Hazardous': 27,\n",
    "    'News / Informational Content': 20,\n",
    "    'Personal / Account Related': 14,\n",
    "    'Other': 12\n",
    "}"
   ]
  },
  {
   "cell_type": "code",
   "execution_count": 10,
   "id": "e81db4c8-cf36-449d-907b-9b10b1a66f36",
   "metadata": {},
   "outputs": [],
   "source": [
    "parts = []\n",
    "seed = 42\n",
    "for label, n in desired.items():\n",
    "    grp = data[\"validating\"][data[\"validating\"]['label'] == label]\n",
    "    parts.append(grp.sample(n=n, random_state=seed))"
   ]
  },
  {
   "cell_type": "code",
   "execution_count": 11,
   "id": "f1a493fb-098d-4029-85fb-28b2439ff5fb",
   "metadata": {},
   "outputs": [],
   "source": [
    "data[\"validating_100mails\"] = pd.concat(parts).sample(frac=1, random_state=seed).reset_index(drop=True)\n"
   ]
  },
  {
   "cell_type": "code",
   "execution_count": 12,
   "id": "75b9a316-3a37-47bf-b3c6-189de3ce252c",
   "metadata": {},
   "outputs": [
    {
     "name": "stdout",
     "output_type": "stream",
     "text": [
      "<class 'pandas.core.frame.DataFrame'>\n",
      "RangeIndex: 100 entries, 0 to 99\n",
      "Data columns (total 7 columns):\n",
      " #   Column   Non-Null Count  Dtype \n",
      "---  ------   --------------  ----- \n",
      " 0   id       100 non-null    object\n",
      " 1   subject  100 non-null    object\n",
      " 2   from     100 non-null    object\n",
      " 3   date     100 non-null    object\n",
      " 4   labels   100 non-null    object\n",
      " 5   text     100 non-null    object\n",
      " 6   label    100 non-null    object\n",
      "dtypes: object(7)\n",
      "memory usage: 5.6+ KB\n"
     ]
    }
   ],
   "source": [
    "data[\"validating_100mails\"].info()"
   ]
  },
  {
   "cell_type": "code",
   "execution_count": 13,
   "id": "a8ad6b1d-3e60-4765-8da8-cab8e3ec3af1",
   "metadata": {},
   "outputs": [
    {
     "data": {
      "text/plain": [
       "label\n",
       "Spam/Hazardous                  27\n",
       "Product Alerts / Price Deals    27\n",
       "News / Informational Content    20\n",
       "Personal / Account Related      14\n",
       "Other                           12\n",
       "Name: count, dtype: int64"
      ]
     },
     "execution_count": 13,
     "metadata": {},
     "output_type": "execute_result"
    }
   ],
   "source": [
    "data[\"validating_100mails\"][\"label\"].value_counts()"
   ]
  },
  {
   "cell_type": "code",
   "execution_count": 14,
   "id": "9b9e4ee9-ada8-44f8-993a-d057c2089f3f",
   "metadata": {},
   "outputs": [],
   "source": [
    "# import torch\n",
    "# torch.cuda.empty_cache()"
   ]
  },
  {
   "cell_type": "markdown",
   "id": "c4c18c0f-834f-42cd-adb0-2fb7de36e0a0",
   "metadata": {},
   "source": [
    "# GPT-2 Model based solution"
   ]
  },
  {
   "cell_type": "code",
   "execution_count": 26,
   "id": "7ac89788-49f4-4c0b-b66d-d8e8a2ed1c8e",
   "metadata": {},
   "outputs": [],
   "source": [
    "device = next(model.parameters()).device"
   ]
  },
  {
   "cell_type": "code",
   "execution_count": 27,
   "id": "1b2414d6-ee8d-487b-8c79-8f470d72b0d3",
   "metadata": {},
   "outputs": [
    {
     "name": "stderr",
     "output_type": "stream",
     "text": [
      "  6%|██▌                                        | 6/100 [00:00<00:03, 28.35it/s]"
     ]
    },
    {
     "name": "stdout",
     "output_type": "stream",
     "text": [
      "Predicted category: Spam/Hazardous Personal / Account Related\n",
      "Predicted category: Spam/Hazardous Spam/Hazardous\n",
      "Predicted category: News / Informational Content News / Informational Content\n",
      "Predicted category: Spam/Hazardous Spam/Hazardous\n",
      "Predicted category: Spam/Hazardous Spam/Hazardous\n",
      "Predicted category: Spam/Hazardous Spam/Hazardous\n",
      "Predicted category: Product Alerts / Price Deals Product Alerts / Price Deals\n",
      "Predicted category: Spam/Hazardous Personal / Account Related\n",
      "Predicted category: Product Alerts / Price Deals Product Alerts / Price Deals\n"
     ]
    },
    {
     "name": "stderr",
     "output_type": "stream",
     "text": [
      " 15%|██████▎                                   | 15/100 [00:00<00:02, 37.36it/s]"
     ]
    },
    {
     "name": "stdout",
     "output_type": "stream",
     "text": [
      "Predicted category: Product Alerts / Price Deals Product Alerts / Price Deals\n",
      "Predicted category: Product Alerts / Price Deals Product Alerts / Price Deals\n",
      "Predicted category: Spam/Hazardous Spam/Hazardous\n",
      "Predicted category: Spam/Hazardous News / Informational Content\n",
      "Predicted category: Spam/Hazardous Spam/Hazardous\n",
      "Predicted category: Other Other\n",
      "Predicted category: Product Alerts / Price Deals Product Alerts / Price Deals\n",
      "Predicted category: Spam/Hazardous Personal / Account Related\n",
      "Predicted category: Spam/Hazardous Personal / Account Related\n",
      "Predicted category: Product Alerts / Price Deals Product Alerts / Price Deals\n"
     ]
    },
    {
     "name": "stderr",
     "output_type": "stream",
     "text": [
      " 26%|██████████▉                               | 26/100 [00:00<00:01, 45.09it/s]"
     ]
    },
    {
     "name": "stdout",
     "output_type": "stream",
     "text": [
      "Predicted category: Spam/Hazardous Spam/Hazardous\n",
      "Predicted category: News / Informational Content News / Informational Content\n",
      "Predicted category: Other Other\n",
      "Predicted category: Product Alerts / Price Deals Product Alerts / Price Deals\n",
      "Predicted category: Spam/Hazardous Spam/Hazardous\n",
      "Predicted category: News / Informational Content News / Informational Content\n",
      "Predicted category: Product Alerts / Price Deals Product Alerts / Price Deals\n",
      "Predicted category: Spam/Hazardous Spam/Hazardous\n",
      "Predicted category: Other Other\n",
      "Predicted category: Product Alerts / Price Deals Product Alerts / Price Deals\n",
      "Predicted category: Spam/Hazardous News / Informational Content\n"
     ]
    },
    {
     "name": "stderr",
     "output_type": "stream",
     "text": [
      " 37%|███████████████▌                          | 37/100 [00:00<00:01, 45.33it/s]"
     ]
    },
    {
     "name": "stdout",
     "output_type": "stream",
     "text": [
      "Predicted category: Product Alerts / Price Deals Product Alerts / Price Deals\n",
      "Predicted category: Spam/Hazardous Spam/Hazardous\n",
      "Predicted category: Spam/Hazardous Personal / Account Related\n",
      "Predicted category: Spam/Hazardous Spam/Hazardous\n",
      "Predicted category: Other Other\n",
      "Predicted category: Product Alerts / Price Deals Product Alerts / Price Deals\n",
      "Predicted category: Spam/Hazardous News / Informational Content\n",
      "Predicted category: Spam/Hazardous News / Informational Content\n",
      "Predicted category: Spam/Hazardous Spam/Hazardous\n"
     ]
    },
    {
     "name": "stderr",
     "output_type": "stream",
     "text": [
      " 48%|████████████████████▏                     | 48/100 [00:01<00:01, 44.91it/s]"
     ]
    },
    {
     "name": "stdout",
     "output_type": "stream",
     "text": [
      "Predicted category: Product Alerts / Price Deals Product Alerts / Price Deals\n",
      "Predicted category: Spam/Hazardous Spam/Hazardous\n",
      "Predicted category: Spam/Hazardous Spam/Hazardous\n",
      "Predicted category: Product Alerts / Price Deals Product Alerts / Price Deals\n",
      "Predicted category: Other Other\n",
      "Predicted category: Spam/Hazardous Spam/Hazardous\n",
      "Predicted category: Product Alerts / Price Deals Product Alerts / Price Deals\n",
      "Predicted category: Spam/Hazardous Personal / Account Related\n",
      "Predicted category: Product Alerts / Price Deals Product Alerts / Price Deals\n"
     ]
    },
    {
     "name": "stderr",
     "output_type": "stream",
     "text": [
      " 59%|████████████████████████▊                 | 59/100 [00:01<00:00, 47.11it/s]"
     ]
    },
    {
     "name": "stdout",
     "output_type": "stream",
     "text": [
      "Predicted category: Spam/Hazardous News / Informational Content\n",
      "Predicted category: Product Alerts / Price Deals Product Alerts / Price Deals\n",
      "Predicted category: Product Alerts / Price Deals Product Alerts / Price Deals\n",
      "Predicted category: Product Alerts / Price Deals Product Alerts / Price Deals\n",
      "Predicted category: Product Alerts / Price Deals Product Alerts / Price Deals\n",
      "Predicted category: Spam/Hazardous Spam/Hazardous\n",
      "Predicted category: Product Alerts / Price Deals Product Alerts / Price Deals\n",
      "Predicted category: Product Alerts / Price Deals Personal / Account Related\n",
      "Predicted category: Product Alerts / Price Deals Product Alerts / Price Deals\n",
      "Predicted category: News / Informational Content News / Informational Content\n",
      "Predicted category: Spam/Hazardous Spam/Hazardous\n",
      "Predicted category: Other Other\n"
     ]
    },
    {
     "name": "stderr",
     "output_type": "stream",
     "text": [
      " 65%|███████████████████████████▎              | 65/100 [00:01<00:00, 47.14it/s]"
     ]
    },
    {
     "name": "stdout",
     "output_type": "stream",
     "text": [
      "Predicted category: Spam/Hazardous News / Informational Content\n",
      "Predicted category: Other Other\n",
      "Predicted category: Spam/Hazardous News / Informational Content\n",
      "Predicted category: Spam/Hazardous Spam/Hazardous\n",
      "Predicted category: Spam/Hazardous Spam/Hazardous\n",
      "Predicted category: Spam/Hazardous News / Informational Content\n",
      "Predicted category: Spam/Hazardous Spam/Hazardous\n",
      "Predicted category: Spam/Hazardous News / Informational Content\n"
     ]
    },
    {
     "name": "stderr",
     "output_type": "stream",
     "text": [
      " 76%|███████████████████████████████▉          | 76/100 [00:01<00:00, 45.63it/s]"
     ]
    },
    {
     "name": "stdout",
     "output_type": "stream",
     "text": [
      "Predicted category: News / Informational Content News / Informational Content\n",
      "Predicted category: Other Other\n",
      "Predicted category: Product Alerts / Price Deals Personal / Account Related\n",
      "Predicted category: Spam/Hazardous Spam/Hazardous\n",
      "Predicted category: News / Informational Content News / Informational Content\n",
      "Predicted category: Spam/Hazardous Spam/Hazardous\n",
      "Predicted category: Other Other\n",
      "Predicted category: News / Informational Content News / Informational Content\n",
      "Predicted category: Spam/Hazardous Personal / Account Related\n",
      "Predicted category: Spam/Hazardous Spam/Hazardous\n",
      "Predicted category: Other Other\n"
     ]
    },
    {
     "name": "stderr",
     "output_type": "stream",
     "text": [
      " 87%|████████████████████████████████████▌     | 87/100 [00:01<00:00, 46.62it/s]"
     ]
    },
    {
     "name": "stdout",
     "output_type": "stream",
     "text": [
      "Predicted category: Spam/Hazardous News / Informational Content\n",
      "Predicted category: Spam/Hazardous News / Informational Content\n",
      "Predicted category: Spam/Hazardous Personal / Account Related\n",
      "Predicted category: Spam/Hazardous Spam/Hazardous\n",
      "Predicted category: Spam/Hazardous Spam/Hazardous\n",
      "Predicted category: Product Alerts / Price Deals Product Alerts / Price Deals\n",
      "Predicted category: Spam/Hazardous Spam/Hazardous\n",
      "Predicted category: Product Alerts / Price Deals Product Alerts / Price Deals\n",
      "Predicted category: Product Alerts / Price Deals Product Alerts / Price Deals\n",
      "Predicted category: Product Alerts / Price Deals Product Alerts / Price Deals\n"
     ]
    },
    {
     "name": "stderr",
     "output_type": "stream",
     "text": [
      "100%|█████████████████████████████████████████| 100/100 [00:02<00:00, 45.10it/s]"
     ]
    },
    {
     "name": "stdout",
     "output_type": "stream",
     "text": [
      "Predicted category: Spam/Hazardous Personal / Account Related\n",
      "Predicted category: Other Other\n",
      "Predicted category: Personal / Account Related Personal / Account Related\n",
      "Predicted category: Spam/Hazardous Personal / Account Related\n",
      "Predicted category: Spam/Hazardous Personal / Account Related\n",
      "Predicted category: Product Alerts / Price Deals Product Alerts / Price Deals\n",
      "Predicted category: Spam/Hazardous News / Informational Content\n",
      "Predicted category: Spam/Hazardous News / Informational Content\n",
      "Predicted category: Product Alerts / Price Deals Product Alerts / Price Deals\n",
      "Predicted category: Other Other\n",
      "Predicted category: Spam/Hazardous Spam/Hazardous\n"
     ]
    },
    {
     "name": "stderr",
     "output_type": "stream",
     "text": [
      "\n"
     ]
    }
   ],
   "source": [
    "\n",
    "for idx, row in tqdm(data[\"validating_100mails\"].iterrows(), total = len(data[\"validating_100mails\"])):\n",
    "    inputs = tokenizer(data[\"validating_100mails\"].loc[idx, \"text\"], return_tensors=\"pt\", padding=True, truncation=True, max_length=128)\n",
    "    inputs = {k: v.to(device) for k, v in inputs.items()}\n",
    "    with torch.no_grad():\n",
    "        outputs = model(**inputs)\n",
    "    predicted_label = outputs.logits.argmax(dim=-1).item()\n",
    "    label_names = tokenized_dataset[\"train\"].features[\"label\"].names\n",
    "    data[\"validating_100mails\"].loc[idx,\"label_GPT2FT\"] = label_names[predicted_label]\n",
    "    print(\"Predicted category:\", label_names[predicted_label], data[\"validating_100mails\"].loc[idx, \"label\"])\n"
   ]
  },
  {
   "cell_type": "code",
   "execution_count": 28,
   "id": "5bca1a37-b7ad-4726-b846-ea3e6c659af2",
   "metadata": {},
   "outputs": [],
   "source": [
    "# from torch.utils.data import DataLoader\n",
    "\n",
    "# def collate_fn(batch):\n",
    "#     texts = [item[\"text\"] for item in batch]\n",
    "#     inputs = tokenizer(texts, return_tensors=\"pt\", padding=True, truncation=True, max_length=512)\n",
    "#     return inputs\n",
    "\n",
    "# dataloader = DataLoader(\n",
    "#     data[\"validating_100mails\"].to_dict(\"records\"),\n",
    "#     batch_size=1,  \n",
    "#     collate_fn=collate_fn\n",
    "# )\n",
    "\n",
    "# label_names = tokenized_dataset[\"train\"].features[\"label\"].names\n",
    "# predictions = []\n",
    "\n",
    "# model.eval()\n",
    "# with torch.no_grad():\n",
    "#     for batch in dataloader:\n",
    "#         batch = {k: v.to(device) for k, v in batch.items()}\n",
    "#         outputs = model(**batch)\n",
    "#         preds = outputs.logits.argmax(dim=-1).cpu().tolist()\n",
    "#         predictions.extend(preds)\n",
    "\n",
    "# data[\"validating_100mails\"][\"label_GPT2FT\"] = [label_names[p] for p in predictions]"
   ]
  },
  {
   "cell_type": "markdown",
   "id": "418d5385-b368-4076-a3e4-bd47c590fdd5",
   "metadata": {},
   "source": [
    "# Prompt based solution"
   ]
  },
  {
   "cell_type": "code",
   "execution_count": null,
   "id": "1f8d6ed5-3751-4613-b35d-a1a8ed772794",
   "metadata": {},
   "outputs": [],
   "source": []
  },
  {
   "cell_type": "markdown",
   "id": "88266bc3-f629-4745-afb3-6a25ce3885fd",
   "metadata": {},
   "source": [
    "## GPT-2"
   ]
  },
  {
   "cell_type": "code",
   "execution_count": 29,
   "id": "c5f779da-6cc0-429b-8d60-76c6a0cfc4ed",
   "metadata": {},
   "outputs": [],
   "source": [
    "tokenizer = GPT2Tokenizer.from_pretrained(\"gpt2\")\n",
    "model = GPT2LMHeadModel.from_pretrained(\"gpt2\")"
   ]
  },
  {
   "cell_type": "code",
   "execution_count": 30,
   "id": "cbdaac3a-c829-4892-aa51-71de4e9e036b",
   "metadata": {},
   "outputs": [
    {
     "data": {
      "text/plain": [
       "GPT2LMHeadModel(\n",
       "  (transformer): GPT2Model(\n",
       "    (wte): Embedding(50257, 768)\n",
       "    (wpe): Embedding(1024, 768)\n",
       "    (drop): Dropout(p=0.1, inplace=False)\n",
       "    (h): ModuleList(\n",
       "      (0-11): 12 x GPT2Block(\n",
       "        (ln_1): LayerNorm((768,), eps=1e-05, elementwise_affine=True)\n",
       "        (attn): GPT2Attention(\n",
       "          (c_attn): Conv1D(nf=2304, nx=768)\n",
       "          (c_proj): Conv1D(nf=768, nx=768)\n",
       "          (attn_dropout): Dropout(p=0.1, inplace=False)\n",
       "          (resid_dropout): Dropout(p=0.1, inplace=False)\n",
       "        )\n",
       "        (ln_2): LayerNorm((768,), eps=1e-05, elementwise_affine=True)\n",
       "        (mlp): GPT2MLP(\n",
       "          (c_fc): Conv1D(nf=3072, nx=768)\n",
       "          (c_proj): Conv1D(nf=768, nx=3072)\n",
       "          (act): NewGELUActivation()\n",
       "          (dropout): Dropout(p=0.1, inplace=False)\n",
       "        )\n",
       "      )\n",
       "    )\n",
       "    (ln_f): LayerNorm((768,), eps=1e-05, elementwise_affine=True)\n",
       "  )\n",
       "  (lm_head): Linear(in_features=768, out_features=50257, bias=False)\n",
       ")"
      ]
     },
     "execution_count": 30,
     "metadata": {},
     "output_type": "execute_result"
    }
   ],
   "source": [
    "model.eval()"
   ]
  },
  {
   "cell_type": "code",
   "execution_count": 31,
   "id": "3c22319f-bc2e-49d5-b1a0-5ffbb456e528",
   "metadata": {},
   "outputs": [],
   "source": [
    "#data[\"validating_100mails\"][\"label_GPT2_Prompt\"].value_counts()"
   ]
  },
  {
   "cell_type": "code",
   "execution_count": 32,
   "id": "d15fa349-9070-4d04-96a7-567fa92fd1be",
   "metadata": {},
   "outputs": [
    {
     "name": "stderr",
     "output_type": "stream",
     "text": [
      "  0%|                                                   | 0/100 [00:00<?, ?it/s]Setting `pad_token_id` to `eos_token_id`:50256 for open-end generation.\n",
      "  1%|▍                                          | 1/100 [00:01<02:54,  1.76s/it]Setting `pad_token_id` to `eos_token_id`:50256 for open-end generation.\n",
      "  2%|▊                                          | 2/100 [00:02<01:53,  1.16s/it]Setting `pad_token_id` to `eos_token_id`:50256 for open-end generation.\n",
      "  3%|█▎                                         | 3/100 [00:03<01:29,  1.09it/s]Setting `pad_token_id` to `eos_token_id`:50256 for open-end generation.\n",
      "  4%|█▋                                         | 4/100 [00:03<01:18,  1.22it/s]Setting `pad_token_id` to `eos_token_id`:50256 for open-end generation.\n",
      "  5%|██▏                                        | 5/100 [00:04<01:10,  1.36it/s]Setting `pad_token_id` to `eos_token_id`:50256 for open-end generation.\n",
      "  6%|██▌                                        | 6/100 [00:04<01:05,  1.45it/s]Setting `pad_token_id` to `eos_token_id`:50256 for open-end generation.\n",
      "  7%|███                                        | 7/100 [00:05<00:59,  1.55it/s]Setting `pad_token_id` to `eos_token_id`:50256 for open-end generation.\n",
      "  8%|███▍                                       | 8/100 [00:06<00:57,  1.60it/s]Setting `pad_token_id` to `eos_token_id`:50256 for open-end generation.\n",
      "  9%|███▊                                       | 9/100 [00:06<00:55,  1.65it/s]Setting `pad_token_id` to `eos_token_id`:50256 for open-end generation.\n",
      " 10%|████▏                                     | 10/100 [00:07<00:54,  1.66it/s]Setting `pad_token_id` to `eos_token_id`:50256 for open-end generation.\n",
      " 11%|████▌                                     | 11/100 [00:07<00:56,  1.58it/s]Setting `pad_token_id` to `eos_token_id`:50256 for open-end generation.\n",
      " 12%|█████                                     | 12/100 [00:08<00:55,  1.59it/s]Setting `pad_token_id` to `eos_token_id`:50256 for open-end generation.\n",
      " 13%|█████▍                                    | 13/100 [00:09<00:54,  1.60it/s]Setting `pad_token_id` to `eos_token_id`:50256 for open-end generation.\n",
      " 14%|█████▉                                    | 14/100 [00:09<00:54,  1.59it/s]Setting `pad_token_id` to `eos_token_id`:50256 for open-end generation.\n",
      " 15%|██████▎                                   | 15/100 [00:10<00:49,  1.70it/s]Setting `pad_token_id` to `eos_token_id`:50256 for open-end generation.\n",
      " 16%|██████▋                                   | 16/100 [00:10<00:45,  1.83it/s]Setting `pad_token_id` to `eos_token_id`:50256 for open-end generation.\n",
      " 17%|███████▏                                  | 17/100 [00:11<00:43,  1.92it/s]Setting `pad_token_id` to `eos_token_id`:50256 for open-end generation.\n",
      " 18%|███████▌                                  | 18/100 [00:13<01:23,  1.02s/it]Setting `pad_token_id` to `eos_token_id`:50256 for open-end generation.\n",
      " 19%|███████▉                                  | 19/100 [00:13<01:09,  1.16it/s]Setting `pad_token_id` to `eos_token_id`:50256 for open-end generation.\n",
      " 20%|████████▍                                 | 20/100 [00:14<00:59,  1.34it/s]Setting `pad_token_id` to `eos_token_id`:50256 for open-end generation.\n",
      " 21%|████████▊                                 | 21/100 [00:14<00:53,  1.48it/s]Setting `pad_token_id` to `eos_token_id`:50256 for open-end generation.\n",
      " 22%|█████████▏                                | 22/100 [00:15<00:47,  1.64it/s]Setting `pad_token_id` to `eos_token_id`:50256 for open-end generation.\n",
      " 23%|█████████▋                                | 23/100 [00:15<00:43,  1.77it/s]Setting `pad_token_id` to `eos_token_id`:50256 for open-end generation.\n",
      " 24%|██████████                                | 24/100 [00:16<00:40,  1.87it/s]Setting `pad_token_id` to `eos_token_id`:50256 for open-end generation.\n",
      " 25%|██████████▌                               | 25/100 [00:16<00:38,  1.94it/s]Setting `pad_token_id` to `eos_token_id`:50256 for open-end generation.\n",
      " 26%|██████████▉                               | 26/100 [00:17<00:37,  1.99it/s]Setting `pad_token_id` to `eos_token_id`:50256 for open-end generation.\n",
      " 27%|███████████▎                              | 27/100 [00:17<00:36,  2.00it/s]Setting `pad_token_id` to `eos_token_id`:50256 for open-end generation.\n",
      " 28%|███████████▊                              | 28/100 [00:18<00:34,  2.07it/s]Setting `pad_token_id` to `eos_token_id`:50256 for open-end generation.\n",
      " 29%|████████████▏                             | 29/100 [00:18<00:33,  2.10it/s]Setting `pad_token_id` to `eos_token_id`:50256 for open-end generation.\n",
      " 30%|████████████▌                             | 30/100 [00:19<00:33,  2.10it/s]Setting `pad_token_id` to `eos_token_id`:50256 for open-end generation.\n",
      " 31%|█████████████                             | 31/100 [00:19<00:32,  2.10it/s]Setting `pad_token_id` to `eos_token_id`:50256 for open-end generation.\n",
      " 32%|█████████████▍                            | 32/100 [00:20<00:33,  2.05it/s]Setting `pad_token_id` to `eos_token_id`:50256 for open-end generation.\n",
      " 33%|█████████████▊                            | 33/100 [00:20<00:32,  2.05it/s]Setting `pad_token_id` to `eos_token_id`:50256 for open-end generation.\n",
      " 34%|██████████████▎                           | 34/100 [00:21<00:34,  1.92it/s]Setting `pad_token_id` to `eos_token_id`:50256 for open-end generation.\n",
      " 35%|██████████████▋                           | 35/100 [00:21<00:33,  1.97it/s]Setting `pad_token_id` to `eos_token_id`:50256 for open-end generation.\n",
      " 36%|███████████████                           | 36/100 [00:22<00:32,  1.95it/s]Setting `pad_token_id` to `eos_token_id`:50256 for open-end generation.\n",
      " 37%|███████████████▌                          | 37/100 [00:22<00:31,  2.01it/s]Setting `pad_token_id` to `eos_token_id`:50256 for open-end generation.\n",
      " 38%|███████████████▉                          | 38/100 [00:23<00:30,  2.00it/s]Setting `pad_token_id` to `eos_token_id`:50256 for open-end generation.\n",
      " 39%|████████████████▍                         | 39/100 [00:23<00:31,  1.96it/s]Setting `pad_token_id` to `eos_token_id`:50256 for open-end generation.\n",
      " 40%|████████████████▊                         | 40/100 [00:24<00:31,  1.92it/s]Setting `pad_token_id` to `eos_token_id`:50256 for open-end generation.\n",
      " 41%|█████████████████▏                        | 41/100 [00:24<00:30,  1.92it/s]Setting `pad_token_id` to `eos_token_id`:50256 for open-end generation.\n",
      " 42%|█████████████████▋                        | 42/100 [00:25<00:30,  1.89it/s]Setting `pad_token_id` to `eos_token_id`:50256 for open-end generation.\n",
      " 43%|██████████████████                        | 43/100 [00:25<00:31,  1.82it/s]Setting `pad_token_id` to `eos_token_id`:50256 for open-end generation.\n",
      " 44%|██████████████████▍                       | 44/100 [00:26<00:29,  1.89it/s]Setting `pad_token_id` to `eos_token_id`:50256 for open-end generation.\n",
      " 45%|██████████████████▉                       | 45/100 [00:26<00:28,  1.92it/s]Setting `pad_token_id` to `eos_token_id`:50256 for open-end generation.\n",
      " 46%|███████████████████▎                      | 46/100 [00:27<00:28,  1.91it/s]Setting `pad_token_id` to `eos_token_id`:50256 for open-end generation.\n",
      " 47%|███████████████████▋                      | 47/100 [00:27<00:27,  1.92it/s]Setting `pad_token_id` to `eos_token_id`:50256 for open-end generation.\n",
      " 48%|████████████████████▏                     | 48/100 [00:28<00:27,  1.90it/s]Setting `pad_token_id` to `eos_token_id`:50256 for open-end generation.\n",
      " 49%|████████████████████▌                     | 49/100 [00:29<00:34,  1.50it/s]Setting `pad_token_id` to `eos_token_id`:50256 for open-end generation.\n",
      " 50%|█████████████████████                     | 50/100 [00:30<00:34,  1.47it/s]Setting `pad_token_id` to `eos_token_id`:50256 for open-end generation.\n",
      " 51%|█████████████████████▍                    | 51/100 [00:30<00:32,  1.53it/s]Setting `pad_token_id` to `eos_token_id`:50256 for open-end generation.\n",
      " 52%|█████████████████████▊                    | 52/100 [00:31<00:30,  1.56it/s]Setting `pad_token_id` to `eos_token_id`:50256 for open-end generation.\n",
      " 53%|██████████████████████▎                   | 53/100 [00:32<00:30,  1.56it/s]Setting `pad_token_id` to `eos_token_id`:50256 for open-end generation.\n",
      " 54%|██████████████████████▋                   | 54/100 [00:32<00:29,  1.54it/s]Setting `pad_token_id` to `eos_token_id`:50256 for open-end generation.\n",
      " 55%|███████████████████████                   | 55/100 [00:33<00:27,  1.65it/s]Setting `pad_token_id` to `eos_token_id`:50256 for open-end generation.\n",
      " 56%|███████████████████████▌                  | 56/100 [00:33<00:25,  1.70it/s]Setting `pad_token_id` to `eos_token_id`:50256 for open-end generation.\n",
      " 57%|███████████████████████▉                  | 57/100 [00:34<00:24,  1.73it/s]Setting `pad_token_id` to `eos_token_id`:50256 for open-end generation.\n",
      " 58%|████████████████████████▎                 | 58/100 [00:35<00:26,  1.61it/s]Setting `pad_token_id` to `eos_token_id`:50256 for open-end generation.\n",
      " 59%|████████████████████████▊                 | 59/100 [00:35<00:26,  1.56it/s]Setting `pad_token_id` to `eos_token_id`:50256 for open-end generation.\n",
      " 60%|█████████████████████████▏                | 60/100 [00:36<00:26,  1.52it/s]Setting `pad_token_id` to `eos_token_id`:50256 for open-end generation.\n",
      " 61%|█████████████████████████▌                | 61/100 [00:37<00:26,  1.49it/s]Setting `pad_token_id` to `eos_token_id`:50256 for open-end generation.\n",
      " 62%|██████████████████████████                | 62/100 [00:37<00:26,  1.45it/s]Setting `pad_token_id` to `eos_token_id`:50256 for open-end generation.\n",
      " 63%|██████████████████████████▍               | 63/100 [00:38<00:24,  1.49it/s]Setting `pad_token_id` to `eos_token_id`:50256 for open-end generation.\n",
      " 64%|██████████████████████████▉               | 64/100 [00:39<00:23,  1.55it/s]Setting `pad_token_id` to `eos_token_id`:50256 for open-end generation.\n",
      " 65%|███████████████████████████▎              | 65/100 [00:39<00:22,  1.55it/s]Setting `pad_token_id` to `eos_token_id`:50256 for open-end generation.\n",
      " 66%|███████████████████████████▋              | 66/100 [00:40<00:20,  1.62it/s]Setting `pad_token_id` to `eos_token_id`:50256 for open-end generation.\n",
      " 67%|████████████████████████████▏             | 67/100 [00:40<00:19,  1.65it/s]Setting `pad_token_id` to `eos_token_id`:50256 for open-end generation.\n",
      " 68%|████████████████████████████▌             | 68/100 [00:41<00:18,  1.72it/s]Setting `pad_token_id` to `eos_token_id`:50256 for open-end generation.\n",
      " 69%|████████████████████████████▉             | 69/100 [00:41<00:18,  1.68it/s]Setting `pad_token_id` to `eos_token_id`:50256 for open-end generation.\n",
      " 70%|█████████████████████████████▍            | 70/100 [00:42<00:17,  1.76it/s]Setting `pad_token_id` to `eos_token_id`:50256 for open-end generation.\n",
      " 71%|█████████████████████████████▊            | 71/100 [00:42<00:15,  1.86it/s]Setting `pad_token_id` to `eos_token_id`:50256 for open-end generation.\n",
      " 72%|██████████████████████████████▏           | 72/100 [00:43<00:14,  1.88it/s]Setting `pad_token_id` to `eos_token_id`:50256 for open-end generation.\n",
      " 73%|██████████████████████████████▋           | 73/100 [00:43<00:14,  1.93it/s]Setting `pad_token_id` to `eos_token_id`:50256 for open-end generation.\n",
      " 74%|███████████████████████████████           | 74/100 [00:44<00:13,  1.93it/s]Setting `pad_token_id` to `eos_token_id`:50256 for open-end generation.\n",
      " 75%|███████████████████████████████▌          | 75/100 [00:45<00:13,  1.90it/s]Setting `pad_token_id` to `eos_token_id`:50256 for open-end generation.\n",
      " 76%|███████████████████████████████▉          | 76/100 [00:45<00:12,  1.85it/s]Setting `pad_token_id` to `eos_token_id`:50256 for open-end generation.\n",
      " 77%|████████████████████████████████▎         | 77/100 [00:46<00:12,  1.87it/s]Setting `pad_token_id` to `eos_token_id`:50256 for open-end generation.\n",
      " 78%|████████████████████████████████▊         | 78/100 [00:46<00:13,  1.68it/s]Setting `pad_token_id` to `eos_token_id`:50256 for open-end generation.\n",
      " 79%|█████████████████████████████████▏        | 79/100 [00:47<00:12,  1.74it/s]Setting `pad_token_id` to `eos_token_id`:50256 for open-end generation.\n",
      " 80%|█████████████████████████████████▌        | 80/100 [00:47<00:11,  1.74it/s]Setting `pad_token_id` to `eos_token_id`:50256 for open-end generation.\n",
      " 81%|██████████████████████████████████        | 81/100 [00:48<00:10,  1.83it/s]Setting `pad_token_id` to `eos_token_id`:50256 for open-end generation.\n",
      " 82%|██████████████████████████████████▍       | 82/100 [00:48<00:09,  1.86it/s]Setting `pad_token_id` to `eos_token_id`:50256 for open-end generation.\n",
      " 83%|██████████████████████████████████▊       | 83/100 [00:49<00:09,  1.86it/s]Setting `pad_token_id` to `eos_token_id`:50256 for open-end generation.\n",
      " 84%|███████████████████████████████████▎      | 84/100 [00:50<00:08,  1.86it/s]Setting `pad_token_id` to `eos_token_id`:50256 for open-end generation.\n",
      " 85%|███████████████████████████████████▋      | 85/100 [00:50<00:07,  1.88it/s]Setting `pad_token_id` to `eos_token_id`:50256 for open-end generation.\n",
      " 86%|████████████████████████████████████      | 86/100 [00:51<00:07,  1.89it/s]Setting `pad_token_id` to `eos_token_id`:50256 for open-end generation.\n",
      " 87%|████████████████████████████████████▌     | 87/100 [00:51<00:06,  1.87it/s]Setting `pad_token_id` to `eos_token_id`:50256 for open-end generation.\n",
      " 88%|████████████████████████████████████▉     | 88/100 [00:52<00:06,  1.83it/s]Setting `pad_token_id` to `eos_token_id`:50256 for open-end generation.\n",
      " 89%|█████████████████████████████████████▍    | 89/100 [00:52<00:06,  1.83it/s]Setting `pad_token_id` to `eos_token_id`:50256 for open-end generation.\n",
      " 90%|█████████████████████████████████████▊    | 90/100 [00:53<00:05,  1.80it/s]Setting `pad_token_id` to `eos_token_id`:50256 for open-end generation.\n",
      " 91%|██████████████████████████████████████▏   | 91/100 [00:53<00:04,  1.88it/s]Setting `pad_token_id` to `eos_token_id`:50256 for open-end generation.\n",
      " 92%|██████████████████████████████████████▋   | 92/100 [00:54<00:04,  1.93it/s]Setting `pad_token_id` to `eos_token_id`:50256 for open-end generation.\n",
      " 93%|███████████████████████████████████████   | 93/100 [00:54<00:03,  1.96it/s]Setting `pad_token_id` to `eos_token_id`:50256 for open-end generation.\n",
      " 94%|███████████████████████████████████████▍  | 94/100 [00:55<00:03,  1.97it/s]Setting `pad_token_id` to `eos_token_id`:50256 for open-end generation.\n",
      " 95%|███████████████████████████████████████▉  | 95/100 [00:55<00:02,  1.96it/s]Setting `pad_token_id` to `eos_token_id`:50256 for open-end generation.\n",
      " 96%|████████████████████████████████████████▎ | 96/100 [00:56<00:02,  1.81it/s]Setting `pad_token_id` to `eos_token_id`:50256 for open-end generation.\n",
      " 97%|████████████████████████████████████████▋ | 97/100 [00:57<00:01,  1.73it/s]Setting `pad_token_id` to `eos_token_id`:50256 for open-end generation.\n",
      " 98%|█████████████████████████████████████████▏| 98/100 [00:57<00:01,  1.77it/s]Setting `pad_token_id` to `eos_token_id`:50256 for open-end generation.\n",
      " 99%|█████████████████████████████████████████▌| 99/100 [00:58<00:00,  1.79it/s]Setting `pad_token_id` to `eos_token_id`:50256 for open-end generation.\n",
      "100%|█████████████████████████████████████████| 100/100 [00:58<00:00,  1.70it/s]\n"
     ]
    }
   ],
   "source": [
    "\n",
    "for idx, row in tqdm(data[\"validating_100mails\"].iterrows(), total = len(data[\"validating_100mails\"])):\n",
    "    email_text = data[\"validating_100mails\"].loc[idx, \"text\"]\n",
    "    prompt = f\"\"\"Email: \"{email_text}\"\n",
    "Classify this email into one or more of the following categories, and provide a confidence score for each:\n",
    "- Spam/Hazardous\n",
    "- Product Alerts/Price Deals\n",
    "- News/Informational Content\n",
    "- Personal/Account Related\n",
    "- Other\n",
    "Answer with the category/categories and their confidence scores:\"\"\"\n",
    "    inputs = tokenizer(prompt, return_tensors=\"pt\", truncation=True, max_length=min(1024, inputs['input_ids'].shape[1] + 10))\n",
    "    outputs = model.generate(**inputs, max_new_tokens=10, do_sample=False)\n",
    "    generated_text = tokenizer.decode(outputs[0], skip_special_tokens=True)\n",
    "    answer = generated_text.split(\"Answer:\")[-1].strip()\n",
    "    data[\"validating_100mails\"].loc[idx, \"label_GPT2_Prompt\"] = answer"
   ]
  },
  {
   "cell_type": "code",
   "execution_count": 33,
   "id": "ff3eeebb-2df9-4954-8df5-dd449e91c19e",
   "metadata": {},
   "outputs": [],
   "source": [
    "data[\"validating_100mails\"][\"label_GPT2_Prompt\"] = \"Other\""
   ]
  },
  {
   "cell_type": "markdown",
   "id": "22eca82f-0f99-44fd-bffa-f064128c381e",
   "metadata": {},
   "source": [
    "## XLM-Roberta_Large"
   ]
  },
  {
   "cell_type": "code",
   "execution_count": 50,
   "id": "2242fb83-275a-4784-98cc-21def910072f",
   "metadata": {},
   "outputs": [
    {
     "name": "stderr",
     "output_type": "stream",
     "text": [
      "Some weights of the model checkpoint at joeddav/xlm-roberta-large-xnli were not used when initializing XLMRobertaForSequenceClassification: ['roberta.pooler.dense.bias', 'roberta.pooler.dense.weight']\n",
      "- This IS expected if you are initializing XLMRobertaForSequenceClassification from the checkpoint of a model trained on another task or with another architecture (e.g. initializing a BertForSequenceClassification model from a BertForPreTraining model).\n",
      "- This IS NOT expected if you are initializing XLMRobertaForSequenceClassification from the checkpoint of a model that you expect to be exactly identical (initializing a BertForSequenceClassification model from a BertForSequenceClassification model).\n",
      "Device set to use cpu\n"
     ]
    }
   ],
   "source": [
    "classifier = pipeline(\n",
    "    \"zero-shot-classification\",\n",
    "    model=\"joeddav/xlm-roberta-large-xnli\",\n",
    "    device=-1 \n",
    ")"
   ]
  },
  {
   "cell_type": "code",
   "execution_count": 51,
   "id": "62516534-90a8-4b7f-8f4b-1d3dd69aa1c7",
   "metadata": {},
   "outputs": [],
   "source": [
    "candidate_labels = [\n",
    "    \"Spam/Hazardous\",\n",
    "    \"Product Alerts / Price Deals\",\n",
    "    \"News / Informational Content\",\n",
    "    \"Personal / Account Related\",\n",
    "    \"Other\"\n",
    "]"
   ]
  },
  {
   "cell_type": "code",
   "execution_count": 52,
   "id": "789c63f7-aeb0-4e24-9301-ecbb96771fbb",
   "metadata": {},
   "outputs": [
    {
     "name": "stderr",
     "output_type": "stream",
     "text": [
      "  1%|▍                                          | 1/100 [00:06<11:28,  6.95s/it]"
     ]
    },
    {
     "name": "stdout",
     "output_type": "stream",
     "text": [
      "Predicted category: Other | Scores: 0.21428439021110535 Labeled: Personal / Account Related\n"
     ]
    },
    {
     "name": "stderr",
     "output_type": "stream",
     "text": [
      "  2%|▊                                          | 2/100 [00:10<07:51,  4.81s/it]"
     ]
    },
    {
     "name": "stdout",
     "output_type": "stream",
     "text": [
      "Predicted category: Product Alerts / Price Deals | Scores: 0.2806500494480133 Labeled: Spam/Hazardous\n"
     ]
    },
    {
     "name": "stderr",
     "output_type": "stream",
     "text": [
      "  3%|█▎                                         | 3/100 [00:17<09:12,  5.69s/it]"
     ]
    },
    {
     "name": "stdout",
     "output_type": "stream",
     "text": [
      "Predicted category: News / Informational Content | Scores: 0.24458542466163635 Labeled: News / Informational Content\n"
     ]
    },
    {
     "name": "stderr",
     "output_type": "stream",
     "text": [
      "  4%|█▋                                         | 4/100 [00:23<09:54,  6.19s/it]"
     ]
    },
    {
     "name": "stdout",
     "output_type": "stream",
     "text": [
      "Predicted category: Other | Scores: 0.23897777497768402 Labeled: Spam/Hazardous\n"
     ]
    },
    {
     "name": "stderr",
     "output_type": "stream",
     "text": [
      "  5%|██▏                                        | 5/100 [00:29<09:29,  6.00s/it]"
     ]
    },
    {
     "name": "stdout",
     "output_type": "stream",
     "text": [
      "Predicted category: News / Informational Content | Scores: 0.25784626603126526 Labeled: Spam/Hazardous\n"
     ]
    },
    {
     "name": "stderr",
     "output_type": "stream",
     "text": [
      "  6%|██▌                                        | 6/100 [00:31<07:10,  4.58s/it]"
     ]
    },
    {
     "name": "stdout",
     "output_type": "stream",
     "text": [
      "Predicted category: Other | Scores: 0.5191241502761841 Labeled: Spam/Hazardous\n"
     ]
    },
    {
     "name": "stderr",
     "output_type": "stream",
     "text": [
      "  7%|███                                        | 7/100 [00:35<06:52,  4.43s/it]"
     ]
    },
    {
     "name": "stdout",
     "output_type": "stream",
     "text": [
      "Predicted category: Other | Scores: 0.27066493034362793 Labeled: Product Alerts / Price Deals\n"
     ]
    },
    {
     "name": "stderr",
     "output_type": "stream",
     "text": [
      "  8%|███▍                                       | 8/100 [00:39<06:33,  4.27s/it]"
     ]
    },
    {
     "name": "stdout",
     "output_type": "stream",
     "text": [
      "Predicted category: Other | Scores: 0.2071346789598465 Labeled: Personal / Account Related\n"
     ]
    },
    {
     "name": "stderr",
     "output_type": "stream",
     "text": [
      "  9%|███▊                                       | 9/100 [00:43<06:12,  4.09s/it]"
     ]
    },
    {
     "name": "stdout",
     "output_type": "stream",
     "text": [
      "Predicted category: Product Alerts / Price Deals | Scores: 0.3434215188026428 Labeled: Product Alerts / Price Deals\n"
     ]
    },
    {
     "name": "stderr",
     "output_type": "stream",
     "text": [
      " 10%|████▏                                     | 10/100 [00:46<05:54,  3.94s/it]"
     ]
    },
    {
     "name": "stdout",
     "output_type": "stream",
     "text": [
      "Predicted category: Other | Scores: 0.38457027077674866 Labeled: Product Alerts / Price Deals\n"
     ]
    },
    {
     "name": "stderr",
     "output_type": "stream",
     "text": [
      " 11%|████▌                                     | 11/100 [00:50<05:39,  3.82s/it]"
     ]
    },
    {
     "name": "stdout",
     "output_type": "stream",
     "text": [
      "Predicted category: Other | Scores: 0.4134226143360138 Labeled: Product Alerts / Price Deals\n"
     ]
    },
    {
     "name": "stderr",
     "output_type": "stream",
     "text": [
      " 12%|█████                                     | 12/100 [00:57<07:00,  4.78s/it]"
     ]
    },
    {
     "name": "stdout",
     "output_type": "stream",
     "text": [
      "Predicted category: Other | Scores: 0.29273858666419983 Labeled: Spam/Hazardous\n"
     ]
    },
    {
     "name": "stderr",
     "output_type": "stream",
     "text": [
      " 13%|█████▍                                    | 13/100 [01:00<06:14,  4.31s/it]"
     ]
    },
    {
     "name": "stdout",
     "output_type": "stream",
     "text": [
      "Predicted category: Other | Scores: 0.506210446357727 Labeled: News / Informational Content\n"
     ]
    },
    {
     "name": "stderr",
     "output_type": "stream",
     "text": [
      " 14%|█████▉                                    | 14/100 [01:07<07:19,  5.11s/it]"
     ]
    },
    {
     "name": "stdout",
     "output_type": "stream",
     "text": [
      "Predicted category: Personal / Account Related | Scores: 0.21911484003067017 Labeled: Spam/Hazardous\n"
     ]
    },
    {
     "name": "stderr",
     "output_type": "stream",
     "text": [
      " 15%|██████▎                                   | 15/100 [01:08<05:33,  3.92s/it]"
     ]
    },
    {
     "name": "stdout",
     "output_type": "stream",
     "text": [
      "Predicted category: Other | Scores: 0.7563576698303223 Labeled: Other\n"
     ]
    },
    {
     "name": "stderr",
     "output_type": "stream",
     "text": [
      " 16%|██████▋                                   | 16/100 [01:12<05:27,  3.90s/it]"
     ]
    },
    {
     "name": "stdout",
     "output_type": "stream",
     "text": [
      "Predicted category: Other | Scores: 0.3920935094356537 Labeled: Product Alerts / Price Deals\n"
     ]
    },
    {
     "name": "stderr",
     "output_type": "stream",
     "text": [
      " 17%|███████▏                                  | 17/100 [01:18<06:21,  4.60s/it]"
     ]
    },
    {
     "name": "stdout",
     "output_type": "stream",
     "text": [
      "Predicted category: Other | Scores: 0.21397700905799866 Labeled: Personal / Account Related\n"
     ]
    },
    {
     "name": "stderr",
     "output_type": "stream",
     "text": [
      " 18%|███████▌                                  | 18/100 [01:23<06:17,  4.61s/it]"
     ]
    },
    {
     "name": "stdout",
     "output_type": "stream",
     "text": [
      "Predicted category: Personal / Account Related | Scores: 0.21648532152175903 Labeled: Personal / Account Related\n"
     ]
    },
    {
     "name": "stderr",
     "output_type": "stream",
     "text": [
      " 19%|███████▉                                  | 19/100 [01:27<05:53,  4.36s/it]"
     ]
    },
    {
     "name": "stdout",
     "output_type": "stream",
     "text": [
      "Predicted category: Other | Scores: 0.3562549948692322 Labeled: Product Alerts / Price Deals\n"
     ]
    },
    {
     "name": "stderr",
     "output_type": "stream",
     "text": [
      " 20%|████████▍                                 | 20/100 [01:34<06:59,  5.24s/it]"
     ]
    },
    {
     "name": "stdout",
     "output_type": "stream",
     "text": [
      "Predicted category: Product Alerts / Price Deals | Scores: 0.2133440524339676 Labeled: Spam/Hazardous\n"
     ]
    },
    {
     "name": "stderr",
     "output_type": "stream",
     "text": [
      " 21%|████████▊                                 | 21/100 [01:41<07:42,  5.86s/it]"
     ]
    },
    {
     "name": "stdout",
     "output_type": "stream",
     "text": [
      "Predicted category: News / Informational Content | Scores: 0.22996455430984497 Labeled: News / Informational Content\n"
     ]
    },
    {
     "name": "stderr",
     "output_type": "stream",
     "text": [
      " 22%|█████████▏                                | 22/100 [01:42<05:48,  4.47s/it]"
     ]
    },
    {
     "name": "stdout",
     "output_type": "stream",
     "text": [
      "Predicted category: Other | Scores: 0.7563576698303223 Labeled: Other\n"
     ]
    },
    {
     "name": "stderr",
     "output_type": "stream",
     "text": [
      " 23%|█████████▋                                | 23/100 [01:46<05:33,  4.33s/it]"
     ]
    },
    {
     "name": "stdout",
     "output_type": "stream",
     "text": [
      "Predicted category: Other | Scores: 0.3467523157596588 Labeled: Product Alerts / Price Deals\n"
     ]
    },
    {
     "name": "stderr",
     "output_type": "stream",
     "text": [
      " 24%|██████████                                | 24/100 [01:55<06:58,  5.51s/it]"
     ]
    },
    {
     "name": "stdout",
     "output_type": "stream",
     "text": [
      "Predicted category: News / Informational Content | Scores: 0.21253982186317444 Labeled: Spam/Hazardous\n"
     ]
    },
    {
     "name": "stderr",
     "output_type": "stream",
     "text": [
      " 25%|██████████▌                               | 25/100 [02:02<07:24,  5.93s/it]"
     ]
    },
    {
     "name": "stdout",
     "output_type": "stream",
     "text": [
      "Predicted category: Personal / Account Related | Scores: 0.20665575563907623 Labeled: News / Informational Content\n"
     ]
    },
    {
     "name": "stderr",
     "output_type": "stream",
     "text": [
      " 26%|██████████▉                               | 26/100 [02:06<06:41,  5.43s/it]"
     ]
    },
    {
     "name": "stdout",
     "output_type": "stream",
     "text": [
      "Predicted category: Other | Scores: 0.2605690360069275 Labeled: Product Alerts / Price Deals\n"
     ]
    },
    {
     "name": "stderr",
     "output_type": "stream",
     "text": [
      " 27%|███████████▎                              | 27/100 [02:13<07:08,  5.87s/it]"
     ]
    },
    {
     "name": "stdout",
     "output_type": "stream",
     "text": [
      "Predicted category: Other | Scores: 0.2164989560842514 Labeled: Spam/Hazardous\n"
     ]
    },
    {
     "name": "stderr",
     "output_type": "stream",
     "text": [
      " 28%|███████████▊                              | 28/100 [02:14<05:19,  4.44s/it]"
     ]
    },
    {
     "name": "stdout",
     "output_type": "stream",
     "text": [
      "Predicted category: Other | Scores: 0.7563576698303223 Labeled: Other\n"
     ]
    },
    {
     "name": "stderr",
     "output_type": "stream",
     "text": [
      " 29%|████████████▏                             | 29/100 [02:18<04:58,  4.21s/it]"
     ]
    },
    {
     "name": "stdout",
     "output_type": "stream",
     "text": [
      "Predicted category: Other | Scores: 0.3452088534832001 Labeled: Product Alerts / Price Deals\n"
     ]
    },
    {
     "name": "stderr",
     "output_type": "stream",
     "text": [
      " 30%|████████████▌                             | 30/100 [02:25<05:56,  5.09s/it]"
     ]
    },
    {
     "name": "stdout",
     "output_type": "stream",
     "text": [
      "Predicted category: Product Alerts / Price Deals | Scores: 0.20435236394405365 Labeled: News / Informational Content\n"
     ]
    },
    {
     "name": "stderr",
     "output_type": "stream",
     "text": [
      " 31%|█████████████                             | 31/100 [02:29<05:25,  4.72s/it]"
     ]
    },
    {
     "name": "stdout",
     "output_type": "stream",
     "text": [
      "Predicted category: Other | Scores: 0.3747301697731018 Labeled: Product Alerts / Price Deals\n"
     ]
    },
    {
     "name": "stderr",
     "output_type": "stream",
     "text": [
      " 32%|█████████████▍                            | 32/100 [02:36<06:18,  5.57s/it]"
     ]
    },
    {
     "name": "stdout",
     "output_type": "stream",
     "text": [
      "Predicted category: Other | Scores: 0.2404625564813614 Labeled: Spam/Hazardous\n"
     ]
    },
    {
     "name": "stderr",
     "output_type": "stream",
     "text": [
      " 33%|█████████████▊                            | 33/100 [02:42<06:24,  5.74s/it]"
     ]
    },
    {
     "name": "stdout",
     "output_type": "stream",
     "text": [
      "Predicted category: Spam/Hazardous | Scores: 0.22045916318893433 Labeled: Personal / Account Related\n"
     ]
    },
    {
     "name": "stderr",
     "output_type": "stream",
     "text": [
      " 34%|██████████████▎                           | 34/100 [02:50<06:51,  6.24s/it]"
     ]
    },
    {
     "name": "stdout",
     "output_type": "stream",
     "text": [
      "Predicted category: Other | Scores: 0.3225920796394348 Labeled: Spam/Hazardous\n"
     ]
    },
    {
     "name": "stderr",
     "output_type": "stream",
     "text": [
      " 35%|██████████████▋                           | 35/100 [02:51<05:08,  4.74s/it]"
     ]
    },
    {
     "name": "stdout",
     "output_type": "stream",
     "text": [
      "Predicted category: Other | Scores: 0.7563576698303223 Labeled: Other\n"
     ]
    },
    {
     "name": "stderr",
     "output_type": "stream",
     "text": [
      " 36%|███████████████                           | 36/100 [02:55<04:42,  4.41s/it]"
     ]
    },
    {
     "name": "stdout",
     "output_type": "stream",
     "text": [
      "Predicted category: Other | Scores: 0.3965597450733185 Labeled: Product Alerts / Price Deals\n"
     ]
    },
    {
     "name": "stderr",
     "output_type": "stream",
     "text": [
      " 37%|███████████████▌                          | 37/100 [02:58<04:22,  4.17s/it]"
     ]
    },
    {
     "name": "stdout",
     "output_type": "stream",
     "text": [
      "Predicted category: Other | Scores: 0.21500307321548462 Labeled: News / Informational Content\n"
     ]
    },
    {
     "name": "stderr",
     "output_type": "stream",
     "text": [
      " 38%|███████████████▉                          | 38/100 [03:05<05:12,  5.05s/it]"
     ]
    },
    {
     "name": "stdout",
     "output_type": "stream",
     "text": [
      "Predicted category: Other | Scores: 0.20474590361118317 Labeled: News / Informational Content\n"
     ]
    },
    {
     "name": "stderr",
     "output_type": "stream",
     "text": [
      " 39%|████████████████▍                         | 39/100 [03:12<05:46,  5.68s/it]"
     ]
    },
    {
     "name": "stdout",
     "output_type": "stream",
     "text": [
      "Predicted category: Other | Scores: 0.23212271928787231 Labeled: Spam/Hazardous\n"
     ]
    },
    {
     "name": "stderr",
     "output_type": "stream",
     "text": [
      " 40%|████████████████▊                         | 40/100 [03:17<05:16,  5.27s/it]"
     ]
    },
    {
     "name": "stdout",
     "output_type": "stream",
     "text": [
      "Predicted category: Other | Scores: 0.33373725414276123 Labeled: Product Alerts / Price Deals\n"
     ]
    },
    {
     "name": "stderr",
     "output_type": "stream",
     "text": [
      " 41%|█████████████████▏                        | 41/100 [03:24<05:40,  5.77s/it]"
     ]
    },
    {
     "name": "stdout",
     "output_type": "stream",
     "text": [
      "Predicted category: Other | Scores: 0.3215219974517822 Labeled: Spam/Hazardous\n"
     ]
    },
    {
     "name": "stderr",
     "output_type": "stream",
     "text": [
      " 42%|█████████████████▋                        | 42/100 [03:31<05:53,  6.10s/it]"
     ]
    },
    {
     "name": "stdout",
     "output_type": "stream",
     "text": [
      "Predicted category: Other | Scores: 0.47840026021003723 Labeled: Spam/Hazardous\n"
     ]
    },
    {
     "name": "stderr",
     "output_type": "stream",
     "text": [
      " 43%|██████████████████                        | 43/100 [03:34<05:03,  5.32s/it]"
     ]
    },
    {
     "name": "stdout",
     "output_type": "stream",
     "text": [
      "Predicted category: Other | Scores: 0.35243791341781616 Labeled: Product Alerts / Price Deals\n"
     ]
    },
    {
     "name": "stderr",
     "output_type": "stream",
     "text": [
      " 44%|██████████████████▍                       | 44/100 [03:35<03:47,  4.06s/it]"
     ]
    },
    {
     "name": "stdout",
     "output_type": "stream",
     "text": [
      "Predicted category: Other | Scores: 0.7563576698303223 Labeled: Other\n"
     ]
    },
    {
     "name": "stderr",
     "output_type": "stream",
     "text": [
      " 45%|██████████████████▉                       | 45/100 [03:42<04:33,  4.98s/it]"
     ]
    },
    {
     "name": "stdout",
     "output_type": "stream",
     "text": [
      "Predicted category: Personal / Account Related | Scores: 0.23318569362163544 Labeled: Spam/Hazardous\n"
     ]
    },
    {
     "name": "stderr",
     "output_type": "stream",
     "text": [
      " 46%|███████████████████▎                      | 46/100 [03:46<04:09,  4.61s/it]"
     ]
    },
    {
     "name": "stdout",
     "output_type": "stream",
     "text": [
      "Predicted category: Other | Scores: 0.41799497604370117 Labeled: Product Alerts / Price Deals\n"
     ]
    },
    {
     "name": "stderr",
     "output_type": "stream",
     "text": [
      " 47%|███████████████████▋                      | 47/100 [03:53<04:38,  5.26s/it]"
     ]
    },
    {
     "name": "stdout",
     "output_type": "stream",
     "text": [
      "Predicted category: Other | Scores: 0.2614644765853882 Labeled: Personal / Account Related\n"
     ]
    },
    {
     "name": "stderr",
     "output_type": "stream",
     "text": [
      " 48%|████████████████████▏                     | 48/100 [03:56<04:08,  4.77s/it]"
     ]
    },
    {
     "name": "stdout",
     "output_type": "stream",
     "text": [
      "Predicted category: Other | Scores: 0.38637804985046387 Labeled: Product Alerts / Price Deals\n"
     ]
    },
    {
     "name": "stderr",
     "output_type": "stream",
     "text": [
      " 49%|████████████████████▌                     | 49/100 [04:03<04:34,  5.39s/it]"
     ]
    },
    {
     "name": "stdout",
     "output_type": "stream",
     "text": [
      "Predicted category: Product Alerts / Price Deals | Scores: 0.21335303783416748 Labeled: News / Informational Content\n"
     ]
    },
    {
     "name": "stderr",
     "output_type": "stream",
     "text": [
      " 50%|█████████████████████                     | 50/100 [04:07<04:02,  4.85s/it]"
     ]
    },
    {
     "name": "stdout",
     "output_type": "stream",
     "text": [
      "Predicted category: Other | Scores: 0.3153698444366455 Labeled: Product Alerts / Price Deals\n"
     ]
    },
    {
     "name": "stderr",
     "output_type": "stream",
     "text": [
      " 51%|█████████████████████▍                    | 51/100 [04:10<03:37,  4.45s/it]"
     ]
    },
    {
     "name": "stdout",
     "output_type": "stream",
     "text": [
      "Predicted category: Other | Scores: 0.42083773016929626 Labeled: Product Alerts / Price Deals\n"
     ]
    },
    {
     "name": "stderr",
     "output_type": "stream",
     "text": [
      " 52%|█████████████████████▊                    | 52/100 [04:14<03:23,  4.24s/it]"
     ]
    },
    {
     "name": "stdout",
     "output_type": "stream",
     "text": [
      "Predicted category: Other | Scores: 0.4488176107406616 Labeled: Product Alerts / Price Deals\n"
     ]
    },
    {
     "name": "stderr",
     "output_type": "stream",
     "text": [
      " 53%|██████████████████████▎                   | 53/100 [04:18<03:13,  4.12s/it]"
     ]
    },
    {
     "name": "stdout",
     "output_type": "stream",
     "text": [
      "Predicted category: Other | Scores: 0.40015217661857605 Labeled: Product Alerts / Price Deals\n"
     ]
    },
    {
     "name": "stderr",
     "output_type": "stream",
     "text": [
      " 54%|██████████████████████▋                   | 54/100 [04:19<02:28,  3.22s/it]"
     ]
    },
    {
     "name": "stdout",
     "output_type": "stream",
     "text": [
      "Predicted category: Other | Scores: 0.6559736728668213 Labeled: Spam/Hazardous\n"
     ]
    },
    {
     "name": "stderr",
     "output_type": "stream",
     "text": [
      " 55%|███████████████████████                   | 55/100 [04:23<02:31,  3.38s/it]"
     ]
    },
    {
     "name": "stdout",
     "output_type": "stream",
     "text": [
      "Predicted category: Other | Scores: 0.3965049088001251 Labeled: Product Alerts / Price Deals\n"
     ]
    },
    {
     "name": "stderr",
     "output_type": "stream",
     "text": [
      " 56%|███████████████████████▌                  | 56/100 [04:25<02:06,  2.88s/it]"
     ]
    },
    {
     "name": "stdout",
     "output_type": "stream",
     "text": [
      "Predicted category: Other | Scores: 0.4468523859977722 Labeled: Personal / Account Related\n"
     ]
    },
    {
     "name": "stderr",
     "output_type": "stream",
     "text": [
      " 57%|███████████████████████▉                  | 57/100 [04:28<02:11,  3.06s/it]"
     ]
    },
    {
     "name": "stdout",
     "output_type": "stream",
     "text": [
      "Predicted category: Other | Scores: 0.3987542986869812 Labeled: Product Alerts / Price Deals\n"
     ]
    },
    {
     "name": "stderr",
     "output_type": "stream",
     "text": [
      " 58%|████████████████████████▎                 | 58/100 [04:35<02:55,  4.18s/it]"
     ]
    },
    {
     "name": "stdout",
     "output_type": "stream",
     "text": [
      "Predicted category: Other | Scores: 0.21865054965019226 Labeled: News / Informational Content\n"
     ]
    },
    {
     "name": "stderr",
     "output_type": "stream",
     "text": [
      " 59%|████████████████████████▊                 | 59/100 [04:42<03:23,  4.96s/it]"
     ]
    },
    {
     "name": "stdout",
     "output_type": "stream",
     "text": [
      "Predicted category: Product Alerts / Price Deals | Scores: 0.21230752766132355 Labeled: Spam/Hazardous\n"
     ]
    },
    {
     "name": "stderr",
     "output_type": "stream",
     "text": [
      " 60%|█████████████████████████▏                | 60/100 [04:43<02:32,  3.81s/it]"
     ]
    },
    {
     "name": "stdout",
     "output_type": "stream",
     "text": [
      "Predicted category: Other | Scores: 0.7563576698303223 Labeled: Other\n"
     ]
    },
    {
     "name": "stderr",
     "output_type": "stream",
     "text": [
      " 61%|█████████████████████████▌                | 61/100 [04:50<03:04,  4.72s/it]"
     ]
    },
    {
     "name": "stdout",
     "output_type": "stream",
     "text": [
      "Predicted category: News / Informational Content | Scores: 0.20450255274772644 Labeled: News / Informational Content\n"
     ]
    },
    {
     "name": "stderr",
     "output_type": "stream",
     "text": [
      " 62%|██████████████████████████                | 62/100 [04:51<02:18,  3.64s/it]"
     ]
    },
    {
     "name": "stdout",
     "output_type": "stream",
     "text": [
      "Predicted category: Other | Scores: 0.7563576698303223 Labeled: Other\n"
     ]
    },
    {
     "name": "stderr",
     "output_type": "stream",
     "text": [
      " 63%|██████████████████████████▍               | 63/100 [04:58<02:51,  4.63s/it]"
     ]
    },
    {
     "name": "stdout",
     "output_type": "stream",
     "text": [
      "Predicted category: Other | Scores: 0.2717469334602356 Labeled: News / Informational Content\n"
     ]
    },
    {
     "name": "stderr",
     "output_type": "stream",
     "text": [
      " 64%|██████████████████████████▉               | 64/100 [05:04<03:10,  5.30s/it]"
     ]
    },
    {
     "name": "stdout",
     "output_type": "stream",
     "text": [
      "Predicted category: Other | Scores: 0.2902959883213043 Labeled: Spam/Hazardous\n"
     ]
    },
    {
     "name": "stderr",
     "output_type": "stream",
     "text": [
      " 65%|███████████████████████████▎              | 65/100 [05:11<03:21,  5.77s/it]"
     ]
    },
    {
     "name": "stdout",
     "output_type": "stream",
     "text": [
      "Predicted category: Other | Scores: 0.24530303478240967 Labeled: Spam/Hazardous\n"
     ]
    },
    {
     "name": "stderr",
     "output_type": "stream",
     "text": [
      " 66%|███████████████████████████▋              | 66/100 [05:18<03:27,  6.09s/it]"
     ]
    },
    {
     "name": "stdout",
     "output_type": "stream",
     "text": [
      "Predicted category: News / Informational Content | Scores: 0.2028537392616272 Labeled: News / Informational Content\n"
     ]
    },
    {
     "name": "stderr",
     "output_type": "stream",
     "text": [
      " 67%|████████████████████████████▏             | 67/100 [05:25<03:29,  6.35s/it]"
     ]
    },
    {
     "name": "stdout",
     "output_type": "stream",
     "text": [
      "Predicted category: Other | Scores: 0.2287803441286087 Labeled: Spam/Hazardous\n"
     ]
    },
    {
     "name": "stderr",
     "output_type": "stream",
     "text": [
      " 68%|████████████████████████████▌             | 68/100 [05:32<03:30,  6.59s/it]"
     ]
    },
    {
     "name": "stdout",
     "output_type": "stream",
     "text": [
      "Predicted category: Other | Scores: 0.2273266762495041 Labeled: News / Informational Content\n"
     ]
    },
    {
     "name": "stderr",
     "output_type": "stream",
     "text": [
      " 69%|████████████████████████████▉             | 69/100 [05:42<03:52,  7.49s/it]"
     ]
    },
    {
     "name": "stdout",
     "output_type": "stream",
     "text": [
      "Predicted category: Personal / Account Related | Scores: 0.21923646330833435 Labeled: News / Informational Content\n"
     ]
    },
    {
     "name": "stderr",
     "output_type": "stream",
     "text": [
      " 70%|█████████████████████████████▍            | 70/100 [05:43<02:48,  5.62s/it]"
     ]
    },
    {
     "name": "stdout",
     "output_type": "stream",
     "text": [
      "Predicted category: Other | Scores: 0.7563576698303223 Labeled: Other\n"
     ]
    },
    {
     "name": "stderr",
     "output_type": "stream",
     "text": [
      " 71%|█████████████████████████████▊            | 71/100 [05:51<03:00,  6.22s/it]"
     ]
    },
    {
     "name": "stdout",
     "output_type": "stream",
     "text": [
      "Predicted category: Personal / Account Related | Scores: 0.20880712568759918 Labeled: Personal / Account Related\n"
     ]
    },
    {
     "name": "stderr",
     "output_type": "stream",
     "text": [
      " 72%|██████████████████████████████▏           | 72/100 [05:58<03:01,  6.49s/it]"
     ]
    },
    {
     "name": "stdout",
     "output_type": "stream",
     "text": [
      "Predicted category: Other | Scores: 0.22730354964733124 Labeled: Spam/Hazardous\n"
     ]
    },
    {
     "name": "stderr",
     "output_type": "stream",
     "text": [
      " 73%|██████████████████████████████▋           | 73/100 [06:05<03:00,  6.69s/it]"
     ]
    },
    {
     "name": "stdout",
     "output_type": "stream",
     "text": [
      "Predicted category: Other | Scores: 0.2350521683692932 Labeled: News / Informational Content\n"
     ]
    },
    {
     "name": "stderr",
     "output_type": "stream",
     "text": [
      " 74%|███████████████████████████████           | 74/100 [06:07<02:16,  5.24s/it]"
     ]
    },
    {
     "name": "stdout",
     "output_type": "stream",
     "text": [
      "Predicted category: Other | Scores: 0.42749837040901184 Labeled: Spam/Hazardous\n"
     ]
    },
    {
     "name": "stderr",
     "output_type": "stream",
     "text": [
      " 75%|███████████████████████████████▌          | 75/100 [06:08<01:39,  3.99s/it]"
     ]
    },
    {
     "name": "stdout",
     "output_type": "stream",
     "text": [
      "Predicted category: Other | Scores: 0.7563576698303223 Labeled: Other\n"
     ]
    },
    {
     "name": "stderr",
     "output_type": "stream",
     "text": [
      " 76%|███████████████████████████████▉          | 76/100 [06:15<01:58,  4.92s/it]"
     ]
    },
    {
     "name": "stdout",
     "output_type": "stream",
     "text": [
      "Predicted category: Other | Scores: 0.21402952075004578 Labeled: News / Informational Content\n"
     ]
    },
    {
     "name": "stderr",
     "output_type": "stream",
     "text": [
      " 77%|████████████████████████████████▎         | 77/100 [06:18<01:37,  4.22s/it]"
     ]
    },
    {
     "name": "stdout",
     "output_type": "stream",
     "text": [
      "Predicted category: Other | Scores: 0.3105887770652771 Labeled: Personal / Account Related\n"
     ]
    },
    {
     "name": "stderr",
     "output_type": "stream",
     "text": [
      " 78%|████████████████████████████████▊         | 78/100 [06:25<01:51,  5.07s/it]"
     ]
    },
    {
     "name": "stdout",
     "output_type": "stream",
     "text": [
      "Predicted category: Other | Scores: 0.28348442912101746 Labeled: Spam/Hazardous\n"
     ]
    },
    {
     "name": "stderr",
     "output_type": "stream",
     "text": [
      " 79%|█████████████████████████████████▏        | 79/100 [06:26<01:21,  3.88s/it]"
     ]
    },
    {
     "name": "stdout",
     "output_type": "stream",
     "text": [
      "Predicted category: Other | Scores: 0.7563576698303223 Labeled: Other\n"
     ]
    },
    {
     "name": "stderr",
     "output_type": "stream",
     "text": [
      " 80%|█████████████████████████████████▌        | 80/100 [06:33<01:35,  4.80s/it]"
     ]
    },
    {
     "name": "stdout",
     "output_type": "stream",
     "text": [
      "Predicted category: Other | Scores: 0.245676651597023 Labeled: News / Informational Content\n"
     ]
    },
    {
     "name": "stderr",
     "output_type": "stream",
     "text": [
      " 81%|██████████████████████████████████        | 81/100 [06:35<01:15,  3.96s/it]"
     ]
    },
    {
     "name": "stdout",
     "output_type": "stream",
     "text": [
      "Predicted category: Other | Scores: 0.4239031672477722 Labeled: News / Informational Content\n"
     ]
    },
    {
     "name": "stderr",
     "output_type": "stream",
     "text": [
      " 82%|██████████████████████████████████▍       | 82/100 [06:40<01:20,  4.48s/it]"
     ]
    },
    {
     "name": "stdout",
     "output_type": "stream",
     "text": [
      "Predicted category: News / Informational Content | Scores: 0.21358352899551392 Labeled: Personal / Account Related\n"
     ]
    },
    {
     "name": "stderr",
     "output_type": "stream",
     "text": [
      " 83%|██████████████████████████████████▊       | 83/100 [06:45<01:15,  4.42s/it]"
     ]
    },
    {
     "name": "stdout",
     "output_type": "stream",
     "text": [
      "Predicted category: Product Alerts / Price Deals | Scores: 0.20765922963619232 Labeled: Spam/Hazardous\n"
     ]
    },
    {
     "name": "stderr",
     "output_type": "stream",
     "text": [
      " 84%|███████████████████████████████████▎      | 84/100 [06:52<01:23,  5.20s/it]"
     ]
    },
    {
     "name": "stdout",
     "output_type": "stream",
     "text": [
      "Predicted category: Other | Scores: 0.21913592517375946 Labeled: Spam/Hazardous\n"
     ]
    },
    {
     "name": "stderr",
     "output_type": "stream",
     "text": [
      " 85%|███████████████████████████████████▋      | 85/100 [06:56<01:13,  4.93s/it]"
     ]
    },
    {
     "name": "stdout",
     "output_type": "stream",
     "text": [
      "Predicted category: Other | Scores: 0.21215611696243286 Labeled: Product Alerts / Price Deals\n"
     ]
    },
    {
     "name": "stderr",
     "output_type": "stream",
     "text": [
      " 86%|████████████████████████████████████      | 86/100 [06:59<01:01,  4.43s/it]"
     ]
    },
    {
     "name": "stdout",
     "output_type": "stream",
     "text": [
      "Predicted category: Other | Scores: 0.23350393772125244 Labeled: Spam/Hazardous\n"
     ]
    },
    {
     "name": "stderr",
     "output_type": "stream",
     "text": [
      " 87%|████████████████████████████████████▌     | 87/100 [07:04<00:58,  4.49s/it]"
     ]
    },
    {
     "name": "stdout",
     "output_type": "stream",
     "text": [
      "Predicted category: Other | Scores: 0.24946601688861847 Labeled: Product Alerts / Price Deals\n"
     ]
    },
    {
     "name": "stderr",
     "output_type": "stream",
     "text": [
      " 88%|████████████████████████████████████▉     | 88/100 [07:07<00:50,  4.19s/it]"
     ]
    },
    {
     "name": "stdout",
     "output_type": "stream",
     "text": [
      "Predicted category: Other | Scores: 0.4591869115829468 Labeled: Product Alerts / Price Deals\n"
     ]
    },
    {
     "name": "stderr",
     "output_type": "stream",
     "text": [
      " 89%|█████████████████████████████████████▍    | 89/100 [07:11<00:43,  3.93s/it]"
     ]
    },
    {
     "name": "stdout",
     "output_type": "stream",
     "text": [
      "Predicted category: Other | Scores: 0.38828882575035095 Labeled: Product Alerts / Price Deals\n"
     ]
    },
    {
     "name": "stderr",
     "output_type": "stream",
     "text": [
      " 90%|█████████████████████████████████████▊    | 90/100 [07:17<00:47,  4.72s/it]"
     ]
    },
    {
     "name": "stdout",
     "output_type": "stream",
     "text": [
      "Predicted category: Personal / Account Related | Scores: 0.21397100389003754 Labeled: Personal / Account Related\n"
     ]
    },
    {
     "name": "stderr",
     "output_type": "stream",
     "text": [
      " 91%|██████████████████████████████████████▏   | 91/100 [07:18<00:32,  3.63s/it]"
     ]
    },
    {
     "name": "stdout",
     "output_type": "stream",
     "text": [
      "Predicted category: Other | Scores: 0.7563576698303223 Labeled: Other\n"
     ]
    },
    {
     "name": "stderr",
     "output_type": "stream",
     "text": [
      " 92%|██████████████████████████████████████▋   | 92/100 [07:24<00:33,  4.15s/it]"
     ]
    },
    {
     "name": "stdout",
     "output_type": "stream",
     "text": [
      "Predicted category: Other | Scores: 0.20864900946617126 Labeled: Personal / Account Related\n"
     ]
    },
    {
     "name": "stderr",
     "output_type": "stream",
     "text": [
      " 93%|███████████████████████████████████████   | 93/100 [07:27<00:27,  3.98s/it]"
     ]
    },
    {
     "name": "stdout",
     "output_type": "stream",
     "text": [
      "Predicted category: Other | Scores: 0.2905011475086212 Labeled: Personal / Account Related\n"
     ]
    },
    {
     "name": "stderr",
     "output_type": "stream",
     "text": [
      " 94%|███████████████████████████████████████▍  | 94/100 [07:31<00:23,  3.97s/it]"
     ]
    },
    {
     "name": "stdout",
     "output_type": "stream",
     "text": [
      "Predicted category: Other | Scores: 0.20321375131607056 Labeled: Personal / Account Related\n"
     ]
    },
    {
     "name": "stderr",
     "output_type": "stream",
     "text": [
      " 95%|███████████████████████████████████████▉  | 95/100 [07:35<00:19,  3.86s/it]"
     ]
    },
    {
     "name": "stdout",
     "output_type": "stream",
     "text": [
      "Predicted category: Other | Scores: 0.3654470443725586 Labeled: Product Alerts / Price Deals\n"
     ]
    },
    {
     "name": "stderr",
     "output_type": "stream",
     "text": [
      " 96%|████████████████████████████████████████▎ | 96/100 [07:42<00:19,  4.81s/it]"
     ]
    },
    {
     "name": "stdout",
     "output_type": "stream",
     "text": [
      "Predicted category: Spam/Hazardous | Scores: 0.2279188334941864 Labeled: News / Informational Content\n"
     ]
    },
    {
     "name": "stderr",
     "output_type": "stream",
     "text": [
      " 97%|████████████████████████████████████████▋ | 97/100 [07:49<00:16,  5.42s/it]"
     ]
    },
    {
     "name": "stdout",
     "output_type": "stream",
     "text": [
      "Predicted category: Other | Scores: 0.2685990035533905 Labeled: News / Informational Content\n"
     ]
    },
    {
     "name": "stderr",
     "output_type": "stream",
     "text": [
      " 98%|█████████████████████████████████████████▏| 98/100 [07:52<00:09,  4.84s/it]"
     ]
    },
    {
     "name": "stdout",
     "output_type": "stream",
     "text": [
      "Predicted category: Other | Scores: 0.4439656734466553 Labeled: Product Alerts / Price Deals\n"
     ]
    },
    {
     "name": "stderr",
     "output_type": "stream",
     "text": [
      " 99%|█████████████████████████████████████████▌| 99/100 [07:53<00:03,  3.72s/it]"
     ]
    },
    {
     "name": "stdout",
     "output_type": "stream",
     "text": [
      "Predicted category: Other | Scores: 0.7563576698303223 Labeled: Other\n"
     ]
    },
    {
     "name": "stderr",
     "output_type": "stream",
     "text": [
      "100%|█████████████████████████████████████████| 100/100 [08:00<00:00,  4.81s/it]"
     ]
    },
    {
     "name": "stdout",
     "output_type": "stream",
     "text": [
      "Predicted category: Other | Scores: 0.22176674008369446 Labeled: Spam/Hazardous\n"
     ]
    },
    {
     "name": "stderr",
     "output_type": "stream",
     "text": [
      "\n"
     ]
    }
   ],
   "source": [
    "for idx, row in tqdm(data[\"validating_100mails\"].iterrows(), total = len(data[\"validating_100mails\"])):\n",
    "    text = data[\"validating_100mails\"].loc[idx, \"text\"]\n",
    "    result = classifier(text, candidate_labels=candidate_labels)\n",
    "    data[\"validating_100mails\"].loc[idx, \"label_XLM_Roberta_Base_Prompt\"] = result['labels'][0]\n",
    "    print(\"Predicted category:\", result['labels'][0], \"| Scores:\", result['scores'][0], \"Labeled:\", data[\"validating_100mails\"].loc[idx, \"label\"])\n"
   ]
  },
  {
   "cell_type": "markdown",
   "id": "6f7ffab4-9cfe-4d12-842d-4a6a2b0e0451",
   "metadata": {},
   "source": [
    "# Few shot prompting"
   ]
  },
  {
   "cell_type": "markdown",
   "id": "29fe7933-4ceb-45ed-a41e-1ba5aa7b9678",
   "metadata": {},
   "source": [
    "## paraphrase-multilingual-MiniLM-L12-v2"
   ]
  },
  {
   "cell_type": "code",
   "execution_count": 53,
   "id": "c6241e05-e462-4e36-8d0f-3caa839aa853",
   "metadata": {},
   "outputs": [],
   "source": [
    "examples = {\n",
    "    \"Spam/Hazardous\": [\n",
    "        \"Twój alert o ofertach pracy na stanowisko Elektryk w lokalizacji Polska\",\n",
    "        \"Wybierz swój ulubiony produkt!\",\n",
    "        \"Letnie wypady last minute z: Warszawa\",\n",
    "        \"Złap je, zanim lato się skończy – tylko na vitay.pl!\",\n",
    "        \"We'll downgrade you to our free plan today\"\n",
    "    ],\n",
    "    \"Product Alerts / Price Deals\": [\n",
    "        \"Znaleźliśmy okazję pasującą do Twojego alertu \",\n",
    "        \"w cenie podstawowych! Codziennie, w godz. 14:00-18:00. Nie przegap okazji i sprawdź szczegóły! \"\n",
    "    ],\n",
    "    \"News / Informational Content\": [\n",
    "        \"Desktop Mobile Design Gr, your Thangs fans love what you're creating! Your Creator Analytics Creator Rank Top 15%\",\n",
    "        \"Język Ladder na tle innych języków dla PLC Cześć\",\n",
    "        \"Trending Stories from Amader Electronics -----\",\n",
    "        \"Webinar dzisiaj 20:00 - widzimy się! Cześć\",\n",
    "        \"( https://realpython.com/ ) Hi Gr, We’ve missed seeing you around! \"\n",
    "        \n",
    "    ],\n",
    "    \"Personal / Account Related\": [\n",
    "        \"Nowa transakcja płatnicza Szczegóły Rozpoczęliśmy proces płatności\",\n",
    "        \"Twój raport dotyczący profilu firmy: 166 interakcji* z zeszłego miesiąca Zobacz wyniki firmy \",\n",
    "        \"Wyliczenie składki dla Twojego samochodu: \",\n",
    "        \"Dzień dobry! Miło nam poinformować, że otrzymaliśmy Twoją wpłatę i zabieramy się do realizacji zamówienia:\"\n",
    "        \n",
    "    ],\n",
    "    \"Other\": [\n",
    "        \"Plain text version not available\"]}"
   ]
  },
  {
   "cell_type": "code",
   "execution_count": 54,
   "id": "15ad658d-6c3a-44a3-b62f-2a6ed6e77c69",
   "metadata": {},
   "outputs": [],
   "source": [
    "model = SentenceTransformer('sentence-transformers/paraphrase-multilingual-MiniLM-L12-v2')"
   ]
  },
  {
   "cell_type": "code",
   "execution_count": 55,
   "id": "6bad7dea-a489-44d2-91ee-bed29e6ad2a7",
   "metadata": {},
   "outputs": [],
   "source": [
    "\n",
    "\n",
    "example_texts = []\n",
    "example_labels = []\n",
    "\n",
    "for label, texts in examples.items():\n",
    "    example_texts.extend(texts)\n",
    "    example_labels.extend([label]*len(texts))\n",
    "\n",
    "example_embeddings = model.encode(example_texts, convert_to_tensor=True)"
   ]
  },
  {
   "cell_type": "code",
   "execution_count": 56,
   "id": "3fd90fe7-f40c-4acc-b47f-bbe6913fb4c5",
   "metadata": {},
   "outputs": [
    {
     "name": "stderr",
     "output_type": "stream",
     "text": [
      " 14%|█████▉                                    | 14/100 [00:00<00:01, 70.93it/s]"
     ]
    },
    {
     "name": "stdout",
     "output_type": "stream",
     "text": [
      "Predicted category: Personal / Account Related Personal / Account Related\n",
      "Predicted category: Spam/Hazardous Spam/Hazardous\n",
      "Predicted category: News / Informational Content News / Informational Content\n",
      "Predicted category: Spam/Hazardous Spam/Hazardous\n",
      "Predicted category: Personal / Account Related Spam/Hazardous\n",
      "Predicted category: Product Alerts / Price Deals Spam/Hazardous\n",
      "Predicted category: News / Informational Content Product Alerts / Price Deals\n",
      "Predicted category: Spam/Hazardous Personal / Account Related\n",
      "Predicted category: Personal / Account Related Product Alerts / Price Deals\n",
      "Predicted category: News / Informational Content Product Alerts / Price Deals\n",
      "Predicted category: News / Informational Content Product Alerts / Price Deals\n",
      "Predicted category: Spam/Hazardous Spam/Hazardous\n",
      "Predicted category: News / Informational Content News / Informational Content\n",
      "Predicted category: News / Informational Content Spam/Hazardous\n",
      "Predicted category: Other Other\n",
      "Predicted category: News / Informational Content Product Alerts / Price Deals\n",
      "Predicted category: Spam/Hazardous Personal / Account Related\n"
     ]
    },
    {
     "name": "stderr",
     "output_type": "stream",
     "text": [
      " 33%|█████████████▊                            | 33/100 [00:00<00:00, 83.30it/s]"
     ]
    },
    {
     "name": "stdout",
     "output_type": "stream",
     "text": [
      "Predicted category: News / Informational Content Personal / Account Related\n",
      "Predicted category: News / Informational Content Product Alerts / Price Deals\n",
      "Predicted category: Spam/Hazardous Spam/Hazardous\n",
      "Predicted category: News / Informational Content News / Informational Content\n",
      "Predicted category: Other Other\n",
      "Predicted category: News / Informational Content Product Alerts / Price Deals\n",
      "Predicted category: News / Informational Content Spam/Hazardous\n",
      "Predicted category: News / Informational Content News / Informational Content\n",
      "Predicted category: News / Informational Content Product Alerts / Price Deals\n",
      "Predicted category: Spam/Hazardous Spam/Hazardous\n",
      "Predicted category: Other Other\n",
      "Predicted category: Personal / Account Related Product Alerts / Price Deals\n",
      "Predicted category: News / Informational Content News / Informational Content\n",
      "Predicted category: News / Informational Content Product Alerts / Price Deals\n",
      "Predicted category: Spam/Hazardous Spam/Hazardous\n",
      "Predicted category: Spam/Hazardous Personal / Account Related\n",
      "Predicted category: News / Informational Content Spam/Hazardous\n",
      "Predicted category: Other Other\n",
      "Predicted category: News / Informational Content Product Alerts / Price Deals\n"
     ]
    },
    {
     "name": "stderr",
     "output_type": "stream",
     "text": [
      " 53%|██████████████████████▎                   | 53/100 [00:00<00:00, 89.20it/s]"
     ]
    },
    {
     "name": "stdout",
     "output_type": "stream",
     "text": [
      "Predicted category: Spam/Hazardous News / Informational Content\n",
      "Predicted category: Spam/Hazardous News / Informational Content\n",
      "Predicted category: Personal / Account Related Spam/Hazardous\n",
      "Predicted category: News / Informational Content Product Alerts / Price Deals\n",
      "Predicted category: News / Informational Content Spam/Hazardous\n",
      "Predicted category: Spam/Hazardous Spam/Hazardous\n",
      "Predicted category: News / Informational Content Product Alerts / Price Deals\n",
      "Predicted category: Other Other\n",
      "Predicted category: News / Informational Content Spam/Hazardous\n",
      "Predicted category: News / Informational Content Product Alerts / Price Deals\n",
      "Predicted category: Personal / Account Related Personal / Account Related\n",
      "Predicted category: News / Informational Content Product Alerts / Price Deals\n",
      "Predicted category: News / Informational Content News / Informational Content\n",
      "Predicted category: News / Informational Content Product Alerts / Price Deals\n",
      "Predicted category: News / Informational Content Product Alerts / Price Deals\n",
      "Predicted category: News / Informational Content Product Alerts / Price Deals\n",
      "Predicted category: News / Informational Content Product Alerts / Price Deals\n",
      "Predicted category: Product Alerts / Price Deals Spam/Hazardous\n"
     ]
    },
    {
     "name": "stderr",
     "output_type": "stream",
     "text": [
      " 71%|█████████████████████████████▊            | 71/100 [00:00<00:00, 84.56it/s]"
     ]
    },
    {
     "name": "stdout",
     "output_type": "stream",
     "text": [
      "Predicted category: News / Informational Content Product Alerts / Price Deals\n",
      "Predicted category: Personal / Account Related Personal / Account Related\n",
      "Predicted category: News / Informational Content Product Alerts / Price Deals\n",
      "Predicted category: News / Informational Content News / Informational Content\n",
      "Predicted category: News / Informational Content Spam/Hazardous\n",
      "Predicted category: Other Other\n",
      "Predicted category: News / Informational Content News / Informational Content\n",
      "Predicted category: Other Other\n",
      "Predicted category: News / Informational Content News / Informational Content\n",
      "Predicted category: Spam/Hazardous Spam/Hazardous\n",
      "Predicted category: News / Informational Content Spam/Hazardous\n",
      "Predicted category: News / Informational Content News / Informational Content\n",
      "Predicted category: Spam/Hazardous Spam/Hazardous\n",
      "Predicted category: News / Informational Content News / Informational Content\n",
      "Predicted category: News / Informational Content News / Informational Content\n",
      "Predicted category: Other Other\n",
      "Predicted category: Personal / Account Related Personal / Account Related\n",
      "Predicted category: News / Informational Content Spam/Hazardous\n"
     ]
    },
    {
     "name": "stderr",
     "output_type": "stream",
     "text": [
      " 90%|█████████████████████████████████████▊    | 90/100 [00:01<00:00, 86.46it/s]"
     ]
    },
    {
     "name": "stdout",
     "output_type": "stream",
     "text": [
      "Predicted category: News / Informational Content News / Informational Content\n",
      "Predicted category: Personal / Account Related Spam/Hazardous\n",
      "Predicted category: Other Other\n",
      "Predicted category: News / Informational Content News / Informational Content\n",
      "Predicted category: Personal / Account Related Personal / Account Related\n",
      "Predicted category: Spam/Hazardous Spam/Hazardous\n",
      "Predicted category: Other Other\n",
      "Predicted category: News / Informational Content News / Informational Content\n",
      "Predicted category: News / Informational Content News / Informational Content\n",
      "Predicted category: Personal / Account Related Personal / Account Related\n",
      "Predicted category: Spam/Hazardous Spam/Hazardous\n",
      "Predicted category: News / Informational Content Spam/Hazardous\n",
      "Predicted category: News / Informational Content Product Alerts / Price Deals\n",
      "Predicted category: Spam/Hazardous Spam/Hazardous\n",
      "Predicted category: News / Informational Content Product Alerts / Price Deals\n",
      "Predicted category: News / Informational Content Product Alerts / Price Deals\n",
      "Predicted category: Product Alerts / Price Deals Product Alerts / Price Deals\n",
      "Predicted category: News / Informational Content Personal / Account Related\n"
     ]
    },
    {
     "name": "stderr",
     "output_type": "stream",
     "text": [
      "100%|█████████████████████████████████████████| 100/100 [00:01<00:00, 84.31it/s]"
     ]
    },
    {
     "name": "stdout",
     "output_type": "stream",
     "text": [
      "Predicted category: Other Other\n",
      "Predicted category: Spam/Hazardous Personal / Account Related\n",
      "Predicted category: Product Alerts / Price Deals Personal / Account Related\n",
      "Predicted category: Personal / Account Related Personal / Account Related\n",
      "Predicted category: News / Informational Content Product Alerts / Price Deals\n",
      "Predicted category: News / Informational Content News / Informational Content\n",
      "Predicted category: News / Informational Content News / Informational Content\n",
      "Predicted category: News / Informational Content Product Alerts / Price Deals\n",
      "Predicted category: Other Other\n",
      "Predicted category: Personal / Account Related Spam/Hazardous\n"
     ]
    },
    {
     "name": "stderr",
     "output_type": "stream",
     "text": [
      "\n"
     ]
    }
   ],
   "source": [
    "for idx, row in tqdm(data[\"validating_100mails\"].iterrows(), total = len(data[\"validating_100mails\"])):\n",
    "    email_to_classify = data[\"validating_100mails\"].loc[idx, \"text\"]\n",
    "    email_embedding = model.encode(email_to_classify, convert_to_tensor=True)\n",
    "    cos_scores = util.cos_sim(email_embedding, example_embeddings)\n",
    "    best_idx = torch.argmax(cos_scores)\n",
    "    predicted_label = example_labels[best_idx]\n",
    "    data[\"validating_100mails\"].loc[idx, \"MiniLM_few_shot_prompting\"] = predicted_label\n",
    "    print(\"Predicted category:\", predicted_label, data[\"validating_100mails\"].loc[idx, \"label\"])\n"
   ]
  },
  {
   "cell_type": "code",
   "execution_count": null,
   "id": "047d7742-6597-4852-967b-66372196afc1",
   "metadata": {},
   "outputs": [],
   "source": []
  },
  {
   "cell_type": "markdown",
   "id": "e804025f-0495-465a-9b31-1da12e13df5e",
   "metadata": {},
   "source": [
    "# Stats / Graphical representation of data "
   ]
  },
  {
   "cell_type": "code",
   "execution_count": 58,
   "id": "a53096f6-f4d3-4684-9b21-85ded82633dc",
   "metadata": {},
   "outputs": [],
   "source": [
    "data[\"validating_100mails\"].to_csv(\"2025-09-02_results.csv\")"
   ]
  },
  {
   "cell_type": "code",
   "execution_count": 59,
   "id": "772e7f8e-479e-4118-a4fa-908904ae25ae",
   "metadata": {},
   "outputs": [
    {
     "name": "stdout",
     "output_type": "stream",
     "text": [
      "<class 'pandas.core.frame.DataFrame'>\n",
      "RangeIndex: 100 entries, 0 to 99\n",
      "Data columns (total 11 columns):\n",
      " #   Column                         Non-Null Count  Dtype \n",
      "---  ------                         --------------  ----- \n",
      " 0   id                             100 non-null    object\n",
      " 1   subject                        100 non-null    object\n",
      " 2   from                           100 non-null    object\n",
      " 3   date                           100 non-null    object\n",
      " 4   labels                         100 non-null    object\n",
      " 5   text                           100 non-null    object\n",
      " 6   label                          100 non-null    object\n",
      " 7   label_GPT2FT                   100 non-null    object\n",
      " 8   label_GPT2_Prompt              100 non-null    object\n",
      " 9   label_XLM_Roberta_Base_Prompt  100 non-null    object\n",
      " 10  MiniLM_few_shot_prompting      100 non-null    object\n",
      "dtypes: object(11)\n",
      "memory usage: 8.7+ KB\n"
     ]
    }
   ],
   "source": [
    "data[\"validating_100mails\"].info()"
   ]
  },
  {
   "cell_type": "code",
   "execution_count": 60,
   "id": "3a58a937-d76b-44d8-8ab1-e862bd65589e",
   "metadata": {},
   "outputs": [],
   "source": [
    "columns_to_plot = [\n",
    "    \"label\", \n",
    "    \"label_XLM_Roberta_Base_Prompt\",\n",
    "    \"label_GPT2_Prompt\",\n",
    "    \"MiniLM_few_shot_prompting\",\n",
    "    \"label_GPT2FT\"\n",
    "]\n",
    "\n",
    "df = data[\"validating_100mails\"][columns_to_plot]"
   ]
  },
  {
   "cell_type": "markdown",
   "id": "436ff45d-9dc2-466c-aeb9-3ee246b78021",
   "metadata": {},
   "source": [
    "## Count of labels"
   ]
  },
  {
   "cell_type": "code",
   "execution_count": 61,
   "id": "dc18859a-f349-4ca0-bfcd-713c00ff9895",
   "metadata": {},
   "outputs": [
    {
     "data": {
      "image/png": "[encoded data removed]",
      "text/plain": [
       "<Figure size 1500x800 with 5 Axes>"
      ]
     },
     "metadata": {},
     "output_type": "display_data"
    }
   ],
   "source": [
    "plt.figure(figsize=(15,8))\n",
    "\n",
    "for i, col in enumerate(columns_to_plot):\n",
    "    plt.subplot(2, 3, i+1)\n",
    "    sns.countplot(y=df[col], order=df[col].value_counts().index)\n",
    "    plt.title(col)\n",
    "    plt.xlabel(\"Count\")\n",
    "    plt.ylabel(\"Label\")\n",
    "\n",
    "plt.tight_layout()\n",
    "plt.show()"
   ]
  },
  {
   "cell_type": "markdown",
   "id": "3bd11e90-e81b-41f9-8c23-bf925e45d6d7",
   "metadata": {},
   "source": [
    "## Model Predictions vs Original labels"
   ]
  },
  {
   "cell_type": "code",
   "execution_count": 62,
   "id": "4e887626-fed4-4b57-be3a-4b1b45291af9",
   "metadata": {},
   "outputs": [
    {
     "data": {
      "image/png": "[encoded data removed]",
      "text/plain": [
       "<Figure size 1000x600 with 2 Axes>"
      ]
     },
     "metadata": {},
     "output_type": "display_data"
    }
   ],
   "source": [
    "accuracy_df = pd.DataFrame()\n",
    "\n",
    "for col in columns_to_plot[1:]:\n",
    "    accuracy_df[col] = df[col] == df[\"label\"]\n",
    "\n",
    "plt.figure(figsize=(10,6))\n",
    "sns.heatmap(accuracy_df.T, cmap=\"YlGnBu\", cbar=True, linewidths=0.5)\n",
    "plt.title(\"Model Predictions vs Original Labels (True=1, False=0)\")\n",
    "plt.xlabel(\"Sample Index\")\n",
    "plt.ylabel(\"Models\")\n",
    "plt.show()\n"
   ]
  },
  {
   "cell_type": "markdown",
   "id": "d1429685-4f31-425e-8821-97556167fa10",
   "metadata": {},
   "source": [
    "## Confusion matrix"
   ]
  },
  {
   "cell_type": "code",
   "execution_count": 63,
   "id": "0a74f199-dc94-451d-bec6-663a5dc2c098",
   "metadata": {},
   "outputs": [
    {
     "data": {
      "image/png": "[encoded data removed]",
      "text/plain": [
       "<Figure size 600x500 with 2 Axes>"
      ]
     },
     "metadata": {},
     "output_type": "display_data"
    },
    {
     "data": {
      "image/png": "[encoded data removed]",
      "text/plain": [
       "<Figure size 600x500 with 2 Axes>"
      ]
     },
     "metadata": {},
     "output_type": "display_data"
    },
    {
     "data": {
      "image/png": "[encoded data removed]",
      "text/plain": [
       "<Figure size 600x500 with 2 Axes>"
      ]
     },
     "metadata": {},
     "output_type": "display_data"
    },
    {
     "data": {
      "image/png": "[encoded data removed]",
      "text/plain": [
       "<Figure size 600x500 with 2 Axes>"
      ]
     },
     "metadata": {},
     "output_type": "display_data"
    }
   ],
   "source": [
    "for col in columns_to_plot[1:]:\n",
    "    cm = confusion_matrix(df[\"label\"], df[col], labels=df[\"label\"].unique())\n",
    "    plt.figure(figsize=(6,5))\n",
    "    sns.heatmap(cm, annot=True, fmt='d', xticklabels=df[\"label\"].unique(), yticklabels=df[\"label\"].unique(), cmap=\"Blues\")\n",
    "    plt.title(f\"Confusion Matrix: {col} vs Original\")\n",
    "    plt.xlabel(\"Predicted\")\n",
    "    plt.ylabel(\"True\")\n",
    "    plt.show()"
   ]
  },
  {
   "cell_type": "markdown",
   "id": "93a95912-e098-403c-8ede-d3b7d42934f9",
   "metadata": {},
   "source": [
    "## Percentage of correct answers"
   ]
  },
  {
   "cell_type": "code",
   "execution_count": 69,
   "id": "4eede9a5-bfa8-4b86-83f2-335912a3524f",
   "metadata": {},
   "outputs": [],
   "source": [
    "model_columns = [\n",
    "    \"label_XLM_Roberta_Base_Prompt\",\n",
    "    \"label_GPT2_Prompt\",\n",
    "    \"MiniLM_few_shot_prompting\",\n",
    "    \"label_GPT2FT\"\n",
    "]"
   ]
  },
  {
   "cell_type": "code",
   "execution_count": 70,
   "id": "5308ff85-0d63-4763-ab7e-65103fb3c014",
   "metadata": {},
   "outputs": [],
   "source": [
    "accuracy = {\n",
    "    col: (data[\"validating_100mails\"][col] == data[\"validating_100mails\"][\"label\"]).mean() * 100\n",
    "    for col in model_columns\n",
    "}\n"
   ]
  },
  {
   "cell_type": "code",
   "execution_count": 71,
   "id": "30ca997e-4959-4aa9-b3f3-bedf34616c85",
   "metadata": {},
   "outputs": [],
   "source": [
    "accuracy_df = pd.DataFrame(list(accuracy.items()), columns=[\"Model\", \"Accuracy (%)\"])"
   ]
  },
  {
   "cell_type": "code",
   "execution_count": 73,
   "id": "16f40fc8-c0aa-4a31-ba88-bd5a6899f0d0",
   "metadata": {},
   "outputs": [
    {
     "data": {
      "image/png": "[encoded data removed]",
      "text/plain": [
       "<Figure size 800x500 with 1 Axes>"
      ]
     },
     "metadata": {},
     "output_type": "display_data"
    }
   ],
   "source": [
    "plt.figure(figsize=(8,5))\n",
    "sns.barplot(x=\"Model\", y=\"Accuracy (%)\", data=accuracy_df,hue = \"Model\" ,palette=\"viridis\")\n",
    "plt.ylim(0, 100)\n",
    "plt.title(\"Percentage of Correct Predictions by Model\")\n",
    "plt.ylabel(\"Accuracy (%)\")\n",
    "plt.xlabel(\"Model\")\n",
    "plt.xticks(rotation=45, ha=\"right\")\n",
    "\n",
    "for index, row in accuracy_df.iterrows():\n",
    "    plt.text(index, row[\"Accuracy (%)\"] + 1, f\"{row['Accuracy (%)']:.1f}%\", ha='center')\n",
    "\n",
    "plt.show()"
   ]
  },
  {
   "cell_type": "code",
   "execution_count": null,
   "id": "0bc5d65b-0714-4cdd-b20d-c4dedc0e24c8",
   "metadata": {},
   "outputs": [],
   "source": []
  }
 ],
 "metadata": {
  "kernelspec": {
   "display_name": "My Project Environment",
   "language": "python",
   "name": "my-jupyter-env"
  },
  "language_info": {
   "codemirror_mode": {
    "name": "ipython",
    "version": 3
   },
   "file_extension": ".py",
   "mimetype": "text/x-python",
   "name": "python",
   "nbconvert_exporter": "python",
   "pygments_lexer": "ipython3",
   "version": "3.12.7"
  }
 },
 "nbformat": 4,
 "nbformat_minor": 5
}
